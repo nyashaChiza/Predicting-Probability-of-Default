{
 "cells": [
  {
   "cell_type": "code",
   "execution_count": 20,
   "metadata": {},
   "outputs": [
    {
     "ename": "ModuleNotFoundError",
     "evalue": "No module named 'scripts.helpers'",
     "output_type": "error",
     "traceback": [
      "\u001b[1;31m---------------------------------------------------------------------------\u001b[0m",
      "\u001b[1;31mModuleNotFoundError\u001b[0m                       Traceback (most recent call last)",
      "Cell \u001b[1;32mIn[20], line 12\u001b[0m\n\u001b[0;32m     10\u001b[0m \u001b[38;5;28;01mimport\u001b[39;00m \u001b[38;5;21;01mjoblib\u001b[39;00m\n\u001b[0;32m     11\u001b[0m \u001b[38;5;28;01mimport\u001b[39;00m \u001b[38;5;21;01mloguru\u001b[39;00m\n\u001b[1;32m---> 12\u001b[0m \u001b[38;5;28;01mfrom\u001b[39;00m \u001b[38;5;21;01mscripts\u001b[39;00m\u001b[38;5;21;01m.\u001b[39;00m\u001b[38;5;21;01mhelpers\u001b[39;00m \u001b[38;5;28;01mimport\u001b[39;00m \u001b[38;5;241m*\u001b[39m\n\u001b[0;32m     14\u001b[0m logger \u001b[38;5;241m=\u001b[39m loguru\u001b[38;5;241m.\u001b[39mlogger\n",
      "\u001b[1;31mModuleNotFoundError\u001b[0m: No module named 'scripts.helpers'"
     ]
    }
   ],
   "source": [
    "# Import necessary libraries\n",
    "import pandas as pd\n",
    "from sklearn.linear_model import LogisticRegression\n",
    "from sklearn.tree import DecisionTreeClassifier\n",
    "from sklearn.ensemble import RandomForestClassifier, GradientBoostingClassifier\n",
    "# from xgboost import XGBClassifier\n",
    "from sklearn.model_selection import GridSearchCV\n",
    "import tensorflow as tf\n",
    "from sklearn.metrics import classification_report, accuracy_score\n",
    "import joblib\n",
    "import loguru\n",
    "from scripts.helpers import *\n",
    "\n",
    "logger = loguru.logger"
   ]
  },
  {
   "cell_type": "code",
   "execution_count": 21,
   "metadata": {},
   "outputs": [],
   "source": [
    "import pandas as pd\n",
    "\n",
    "def map_loan_status(status):\n",
    "    status_map = {\n",
    "        'did not default': False,\n",
    "        'defaulted': True\n",
    "    }\n",
    "    return status_map.get(str(status).lower(), None)\n",
    "\n",
    "# Binning functions\n",
    "def bin_age(age):\n",
    "    bins = [0, 18, 30, 40, 50, float('inf')]\n",
    "    labels = ['0-18', '19-30', '31-40', '41-50', '51+']\n",
    "    return pd.cut(age, bins=bins, labels=labels, right=False).astype(str)\n",
    "\n",
    "def bin_salary(salary):\n",
    "    salary_bins = [0, 2273.93, 2665.44, 3146.58, 10000]\n",
    "    salary_labels = ['Low', 'Medium-Low', 'Medium-High', 'High']\n",
    "    return pd.cut(salary, bins=salary_bins, labels=salary_labels, right=False).astype(str)\n",
    "\n",
    "# Custom transformer for age binning\n",
    "def age_bin_transformer(X):\n",
    "    return pd.DataFrame(X).apply(lambda col: bin_age(col)).values\n",
    "\n",
    "# Custom transformer for salary binning\n",
    "def salary_bin_transformer(X):\n",
    "    return pd.DataFrame(X).apply(lambda col: bin_salary(col)).values\n"
   ]
  },
  {
   "cell_type": "code",
   "execution_count": 22,
   "metadata": {},
   "outputs": [],
   "source": [
    "path = '../pipelines/data_processing_pipeline_20240710_170133.pkl'\n",
    "pipeline = joblib.load(path)"
   ]
  },
  {
   "cell_type": "code",
   "execution_count": 38,
   "metadata": {},
   "outputs": [],
   "source": [
    "X_train = pd.read_csv('../data/train/X_train.csv')\n",
    "X_test = pd.read_csv('../data/test/X_test.csv')\n",
    "y_train = pd.read_csv('../data/train/y_train.csv').values.ravel()\n",
    "y_test = pd.read_csv('../data/test/y_test.csv').values.ravel()"
   ]
  },
  {
   "cell_type": "code",
   "execution_count": 39,
   "metadata": {},
   "outputs": [],
   "source": [
    "X_train = pipeline.transform(X_train)\n",
    "X_test= pipeline.transform(X_test)"
   ]
  },
  {
   "cell_type": "code",
   "execution_count": 41,
   "metadata": {},
   "outputs": [],
   "source": [
    "\n",
    "# Define models and hyperparameters\n",
    "models_and_parameters = {\n",
    "    'Logistic Regression': (LogisticRegression(max_iter=1000), {\n",
    "        'C': [0.01, 0.1, 1, 10, 100],\n",
    "        'penalty': ['l2'],\n",
    "        'solver': ['lbfgs']\n",
    "    }),\n",
    "    'Decision Tree': (DecisionTreeClassifier(), {\n",
    "        'criterion': ['gini', 'entropy'],\n",
    "        'max_depth': [None, 10, 20, 30, 40, 50],\n",
    "        'min_samples_split': [2, 5, 10]\n",
    "    }),\n",
    "    'Random Forest': (RandomForestClassifier(), {\n",
    "        'n_estimators': [100, 200, 300],\n",
    "        'criterion': ['gini', 'entropy'],\n",
    "        'max_depth': [None, 10, 20, 30],\n",
    "        'min_samples_split': [2, 5, 10],\n",
    "        'min_samples_leaf': [1, 2, 4]\n",
    "    })\n",
    "}"
   ]
  },
  {
   "cell_type": "code",
   "execution_count": 36,
   "metadata": {},
   "outputs": [],
   "source": [
    "# Perform hyperparameter tuning using GridSearchCV\n",
    "\n",
    "best_model = None\n",
    "best_accuracy = 0"
   ]
  },
  {
   "cell_type": "code",
   "execution_count": 42,
   "metadata": {},
   "outputs": [
    {
     "name": "stderr",
     "output_type": "stream",
     "text": [
      "\u001b[32m2024-07-10 17:30:26.015\u001b[0m | \u001b[1mINFO    \u001b[0m | \u001b[36m__main__\u001b[0m:\u001b[36m<module>\u001b[0m:\u001b[36m7\u001b[0m - \u001b[1mTraining Logistic Regression with GridSearchCV.\u001b[0m\n"
     ]
    },
    {
     "name": "stdout",
     "output_type": "stream",
     "text": [
      "Fitting 3 folds for each of 5 candidates, totalling 15 fits\n"
     ]
    },
    {
     "name": "stderr",
     "output_type": "stream",
     "text": [
      "\u001b[32m2024-07-10 17:30:39.573\u001b[0m | \u001b[31m\u001b[1mERROR   \u001b[0m | \u001b[36m__main__\u001b[0m:\u001b[36m<module>\u001b[0m:\u001b[36m27\u001b[0m - \u001b[31m\u001b[1mAn unexpected error occurred while training Logistic Regression: Unable to allocate 310. MiB for an array with shape (26667, 1524) and data type float64\u001b[0m\n",
      "\u001b[32m2024-07-10 17:30:39.573\u001b[0m | \u001b[1mINFO    \u001b[0m | \u001b[36m__main__\u001b[0m:\u001b[36m<module>\u001b[0m:\u001b[36m7\u001b[0m - \u001b[1mTraining Decision Tree with GridSearchCV.\u001b[0m\n"
     ]
    },
    {
     "name": "stdout",
     "output_type": "stream",
     "text": [
      "Fitting 3 folds for each of 36 candidates, totalling 108 fits\n"
     ]
    },
    {
     "name": "stderr",
     "output_type": "stream",
     "text": [
      "\u001b[32m2024-07-10 17:30:52.503\u001b[0m | \u001b[31m\u001b[1mERROR   \u001b[0m | \u001b[36m__main__\u001b[0m:\u001b[36m<module>\u001b[0m:\u001b[36m27\u001b[0m - \u001b[31m\u001b[1mAn unexpected error occurred while training Decision Tree: Unable to allocate 310. MiB for an array with shape (26667, 1524) and data type float64\u001b[0m\n",
      "\u001b[32m2024-07-10 17:30:52.503\u001b[0m | \u001b[1mINFO    \u001b[0m | \u001b[36m__main__\u001b[0m:\u001b[36m<module>\u001b[0m:\u001b[36m7\u001b[0m - \u001b[1mTraining Random Forest with GridSearchCV.\u001b[0m\n"
     ]
    },
    {
     "name": "stdout",
     "output_type": "stream",
     "text": [
      "Fitting 3 folds for each of 216 candidates, totalling 648 fits\n"
     ]
    },
    {
     "name": "stderr",
     "output_type": "stream",
     "text": [
      "\u001b[32m2024-07-10 17:31:04.154\u001b[0m | \u001b[31m\u001b[1mERROR   \u001b[0m | \u001b[36m__main__\u001b[0m:\u001b[36m<module>\u001b[0m:\u001b[36m27\u001b[0m - \u001b[31m\u001b[1mAn unexpected error occurred while training Random Forest: Unable to allocate 310. MiB for an array with shape (26667, 1524) and data type float64\u001b[0m\n"
     ]
    }
   ],
   "source": [
    "\n",
    "from sklearn.model_selection import GridSearchCV\n",
    "from sklearn.metrics import accuracy_score, classification_report\n",
    "\n",
    "\n",
    "# Train models using GridSearchCV\n",
    "for name, (model, params) in models_and_parameters.items():\n",
    "    logger.info(f\"Training {name} with GridSearchCV.\")\n",
    "    grid_search = GridSearchCV(model, params, cv=3, n_jobs=-1, verbose=2, error_score='raise')\n",
    "    try:\n",
    "        # Validate parameter grid\n",
    "        if not params:\n",
    "            raise ValueError(f\"Parameter grid for {name} is empty.\")\n",
    "\n",
    "        grid_search.fit(X_train, y_train)\n",
    "        best_estimator = grid_search.best_estimator_\n",
    "        y_pred = best_estimator.predict(X_test)\n",
    "        accuracy = accuracy_score(y_test, y_pred)\n",
    "        report = classification_report(y_test, y_pred)\n",
    "\n",
    "        logger.info(f'Model: {name}')\n",
    "        logger.info(f'Best Estimator: {best_estimator}')\n",
    "        logger.info(f'Accuracy: {accuracy}')\n",
    "        logger.info(f'Classification Report:\\n{report}')\n",
    "    except ValueError as e:\n",
    "        logger.error(f\"Failed to train {name} due to ValueError: {e}\")\n",
    "    except Exception as e:\n",
    "        logger.error(f\"An unexpected error occurred while training {name}: {e}\")\n"
   ]
  }
 ],
 "metadata": {
  "kernelspec": {
   "display_name": "claxon-env",
   "language": "python",
   "name": "python3"
  },
  "language_info": {
   "codemirror_mode": {
    "name": "ipython",
    "version": 3
   },
   "file_extension": ".py",
   "mimetype": "text/x-python",
   "name": "python",
   "nbconvert_exporter": "python",
   "pygments_lexer": "ipython3",
   "version": "3.12.2"
  }
 },
 "nbformat": 4,
 "nbformat_minor": 2
}

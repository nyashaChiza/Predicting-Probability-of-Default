{
 "cells": [
  {
   "cell_type": "code",
   "execution_count": 18,
   "metadata": {},
   "outputs": [],
   "source": [
    "# Import necessary libraries\n",
    "import pandas as pd\n",
    "from sklearn.linear_model import LogisticRegression\n",
    "from sklearn.tree import DecisionTreeClassifier\n",
    "from sklearn.ensemble import RandomForestClassifier, GradientBoostingClassifier\n",
    "# from xgboost import XGBClassifier\n",
    "from sklearn.model_selection import GridSearchCV\n",
    "from sklearn.metrics import classification_report, accuracy_score\n",
    "import joblib"
   ]
  },
  {
   "cell_type": "code",
   "execution_count": 19,
   "metadata": {},
   "outputs": [],
   "source": [
    "X_train = pd.read_csv('../data/train/X_train.csv')\n",
    "X_test = pd.read_csv('../data/test/X_test.csv')\n",
    "y_train = pd.read_csv('../data/train/y_train.csv').values.ravel()\n",
    "y_test = pd.read_csv('../data/test/y_test.csv').values.ravel()"
   ]
  },
  {
   "cell_type": "code",
   "execution_count": 20,
   "metadata": {},
   "outputs": [],
   "source": [
    "\n",
    "# Define models and hyperparameters\n",
    "models_and_parameters = {\n",
    "    'Logistic Regression': (LogisticRegression(max_iter=1000), {\n",
    "        'C': [0.01, 0.1, 1, 10, 100],\n",
    "        'penalty': ['l2'],\n",
    "        'solver': ['lbfgs']\n",
    "    }),\n",
    "    'Decision Tree': (DecisionTreeClassifier(), {\n",
    "        'criterion': ['gini', 'entropy'],\n",
    "        'max_depth': [None, 10, 20, 30, 40, 50],\n",
    "        'min_samples_split': [2, 5, 10]\n",
    "    }),\n",
    "    'Random Forest': (RandomForestClassifier(), {\n",
    "        'n_estimators': [100, 200, 300],\n",
    "        'criterion': ['gini', 'entropy'],\n",
    "        'max_depth': [None, 10, 20, 30],\n",
    "        'min_samples_split': [2, 5, 10],\n",
    "        'min_samples_leaf': [1, 2, 4]\n",
    "    })\n",
    "}"
   ]
  },
  {
   "cell_type": "code",
   "execution_count": 21,
   "metadata": {},
   "outputs": [],
   "source": [
    "# Perform hyperparameter tuning using GridSearchCV\n",
    "\n",
    "best_model = None\n",
    "best_accuracy = 0"
   ]
  },
  {
   "cell_type": "code",
   "execution_count": 22,
   "metadata": {},
   "outputs": [
    {
     "name": "stdout",
     "output_type": "stream",
     "text": [
      "Training Logistic Regression with GridSearchCV.\n",
      "Fitting 3 folds for each of 5 candidates, totalling 15 fits\n",
      "Failed to train Logistic Regression due to ValueError: could not convert string to float: '  (0, 0)\\t1.124881036607231\\n  (0, 1)\\t-0.6421347788775653\\n  (0, 2)\\t0.2375272128106946\\n  (0, 3)\\t-0.023252508812940203\\n  (0, 4)\\t1.7330938362181858\\n  (0, 5)\\t-0.40730539321770665\\n  (0, 6)\\t-0.30652749043229954\\n  (0, 9)\\t1.0\\n  (0, 1241)\\t1.0\\n  (0, 1471)\\t1.0\\n  (0, 1472)\\t1.0\\n  (0, 1473)\\t1.0\\n  (0, 1484)\\t1.0\\n  (0, 1495)\\t1.0\\n  (0, 1511)\\t1.0\\n  (0, 1514)\\t1.0\\n  (0, 1518)\\t1.0\\n  (0, 1522)\\t1.0'\n",
      "Training Decision Tree with GridSearchCV.\n",
      "Fitting 3 folds for each of 36 candidates, totalling 108 fits\n",
      "Failed to train Decision Tree due to ValueError: could not convert string to float: '  (0, 0)\\t0.9990554172999345\\n  (0, 1)\\t-0.6421347788775653\\n  (0, 2)\\t-1.2112601094741615\\n  (0, 3)\\t-0.5573018614298109\\n  (0, 4)\\t-0.11733573938926847\\n  (0, 5)\\t-1.5753568786214338\\n  (0, 6)\\t-1.0716302190411113\\n  (0, 7)\\t1.0\\n  (0, 409)\\t1.0\\n  (0, 1471)\\t1.0\\n  (0, 1472)\\t1.0\\n  (0, 1474)\\t1.0\\n  (0, 1483)\\t1.0\\n  (0, 1506)\\t1.0\\n  (0, 1510)\\t1.0\\n  (0, 1513)\\t1.0\\n  (0, 1517)\\t1.0\\n  (0, 1520)\\t1.0'\n",
      "Training Random Forest with GridSearchCV.\n",
      "Fitting 3 folds for each of 216 candidates, totalling 648 fits\n",
      "Failed to train Random Forest due to ValueError: could not convert string to float: '  (0, 0)\\t0.9990554172999345\\n  (0, 1)\\t-0.6421347788775653\\n  (0, 2)\\t-1.2112601094741615\\n  (0, 3)\\t-0.5573018614298109\\n  (0, 4)\\t-0.11733573938926847\\n  (0, 5)\\t-1.5753568786214338\\n  (0, 6)\\t-1.0716302190411113\\n  (0, 7)\\t1.0\\n  (0, 409)\\t1.0\\n  (0, 1471)\\t1.0\\n  (0, 1472)\\t1.0\\n  (0, 1474)\\t1.0\\n  (0, 1483)\\t1.0\\n  (0, 1506)\\t1.0\\n  (0, 1510)\\t1.0\\n  (0, 1513)\\t1.0\\n  (0, 1517)\\t1.0\\n  (0, 1520)\\t1.0'\n"
     ]
    }
   ],
   "source": [
    "# Train models using GridSearchCV\n",
    "for name, (model, params) in models_and_parameters.items():\n",
    "    print(f\"Training {name} with GridSearchCV.\")\n",
    "    grid_search = GridSearchCV(model, params, cv=3, n_jobs=-1, verbose=2, error_score='raise')\n",
    "    try:\n",
    "        grid_search.fit(X_train, y_train)\n",
    "        best_estimator = grid_search.best_estimator_\n",
    "        y_pred = best_estimator.predict(X_test)\n",
    "        accuracy = accuracy_score(y_test, y_pred)\n",
    "        report = classification_report(y_test, y_pred)\n",
    "\n",
    "        print(f'Model: {name}')\n",
    "        print(f'Best Estimator: {best_estimator}')\n",
    "        print(f'Accuracy: {accuracy}')\n",
    "        print(f'Classification Report: {report}')\n",
    "    except ValueError as e:\n",
    "        print(f\"Failed to train {name} due to ValueError: {e}\")"
   ]
  }
 ],
 "metadata": {
  "kernelspec": {
   "display_name": "claxon-env",
   "language": "python",
   "name": "python3"
  },
  "language_info": {
   "codemirror_mode": {
    "name": "ipython",
    "version": 3
   },
   "file_extension": ".py",
   "mimetype": "text/x-python",
   "name": "python",
   "nbconvert_exporter": "python",
   "pygments_lexer": "ipython3",
   "version": "3.12.3"
  }
 },
 "nbformat": 4,
 "nbformat_minor": 2
}

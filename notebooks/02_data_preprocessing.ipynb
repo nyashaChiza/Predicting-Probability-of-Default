{
 "cells": [
  {
   "cell_type": "code",
   "execution_count": 1,
   "metadata": {},
   "outputs": [],
   "source": [
    "#Importing Packages\n",
    "import pandas as pd\n",
    "import numpy as np\n",
    "from datetime import datetime\n",
    "\n",
    "# Setting a random seed for reproducibility\n",
    "np.random.seed(42)\n",
    "\n"
   ]
  },
  {
   "cell_type": "markdown",
   "metadata": {},
   "source": [
    "# Data Preprocessing Notebook\n",
    "\n",
    "This notebook contains various data preprocessing steps for our dataset. Below is a summary of the steps taken:\n",
    "\n",
    "1. Handling Missing Data\n",
    "2. Handling Categorical Data\n",
    "3. Standardizing Numeric Data\n",
    "4. Feature Engineering\n"
   ]
  },
  {
   "cell_type": "code",
   "execution_count": 2,
   "metadata": {},
   "outputs": [
    {
     "name": "stdout",
     "output_type": "stream",
     "text": [
      "<class 'pandas.core.frame.DataFrame'>\n",
      "RangeIndex: 100000 entries, 0 to 99999\n",
      "Data columns (total 21 columns):\n",
      " #   Column                Non-Null Count   Dtype  \n",
      "---  ------                --------------   -----  \n",
      " 0   Unnamed: 0            100000 non-null  int64  \n",
      " 1   loan_id               100000 non-null  object \n",
      " 2   gender                100000 non-null  object \n",
      " 3   disbursemet_date      100000 non-null  object \n",
      " 4   currency              100000 non-null  object \n",
      " 5   country               99900 non-null   object \n",
      " 6   sex                   100000 non-null  object \n",
      " 7   is_employed           100000 non-null  bool   \n",
      " 8   job                   95864 non-null   object \n",
      " 9   location              99405 non-null   object \n",
      " 10  loan_amount           100000 non-null  float64\n",
      " 11  number_of_defaults    100000 non-null  int64  \n",
      " 12  outstanding_balance   100000 non-null  float64\n",
      " 13  interest_rate         100000 non-null  float64\n",
      " 14  age                   100000 non-null  int64  \n",
      " 15  number_of_defaults.1  100000 non-null  int64  \n",
      " 16  remaining term        100000 non-null  object \n",
      " 17  salary                100000 non-null  float64\n",
      " 18  marital_status        100000 non-null  object \n",
      " 19  age.1                 100000 non-null  int64  \n",
      " 20  Loan Status           100000 non-null  object \n",
      "dtypes: bool(1), float64(4), int64(5), object(11)\n",
      "memory usage: 15.4+ MB\n"
     ]
    }
   ],
   "source": [
    "#load data\n",
    "path = \"../data/raw/data_science_competition_2024.csv\"\n",
    "df = pd.read_csv(path)\n",
    "df.info()"
   ]
  },
  {
   "cell_type": "code",
   "execution_count": 3,
   "metadata": {},
   "outputs": [
    {
     "data": {
      "text/html": [
       "<div>\n",
       "<style scoped>\n",
       "    .dataframe tbody tr th:only-of-type {\n",
       "        vertical-align: middle;\n",
       "    }\n",
       "\n",
       "    .dataframe tbody tr th {\n",
       "        vertical-align: top;\n",
       "    }\n",
       "\n",
       "    .dataframe thead th {\n",
       "        text-align: right;\n",
       "    }\n",
       "</style>\n",
       "<table border=\"1\" class=\"dataframe\">\n",
       "  <thead>\n",
       "    <tr style=\"text-align: right;\">\n",
       "      <th></th>\n",
       "      <th>Unnamed: 0</th>\n",
       "      <th>loan_amount</th>\n",
       "      <th>number_of_defaults</th>\n",
       "      <th>outstanding_balance</th>\n",
       "      <th>interest_rate</th>\n",
       "      <th>age</th>\n",
       "      <th>number_of_defaults.1</th>\n",
       "      <th>salary</th>\n",
       "      <th>age.1</th>\n",
       "    </tr>\n",
       "  </thead>\n",
       "  <tbody>\n",
       "    <tr>\n",
       "      <th>count</th>\n",
       "      <td>100000.000000</td>\n",
       "      <td>100000.000000</td>\n",
       "      <td>100000.000000</td>\n",
       "      <td>100000.000000</td>\n",
       "      <td>100000.000000</td>\n",
       "      <td>100000.00000</td>\n",
       "      <td>100000.000000</td>\n",
       "      <td>100000.000000</td>\n",
       "      <td>100000.00000</td>\n",
       "    </tr>\n",
       "    <tr>\n",
       "      <th>mean</th>\n",
       "      <td>49999.500000</td>\n",
       "      <td>31120.000000</td>\n",
       "      <td>0.441970</td>\n",
       "      <td>36964.909763</td>\n",
       "      <td>0.210435</td>\n",
       "      <td>43.57069</td>\n",
       "      <td>0.441970</td>\n",
       "      <td>2781.804324</td>\n",
       "      <td>43.57069</td>\n",
       "    </tr>\n",
       "    <tr>\n",
       "      <th>std</th>\n",
       "      <td>28867.657797</td>\n",
       "      <td>15895.093631</td>\n",
       "      <td>0.688286</td>\n",
       "      <td>10014.758477</td>\n",
       "      <td>0.018725</td>\n",
       "      <td>4.86376</td>\n",
       "      <td>0.688286</td>\n",
       "      <td>696.450055</td>\n",
       "      <td>4.86376</td>\n",
       "    </tr>\n",
       "    <tr>\n",
       "      <th>min</th>\n",
       "      <td>0.000000</td>\n",
       "      <td>1000.000000</td>\n",
       "      <td>0.000000</td>\n",
       "      <td>0.000000</td>\n",
       "      <td>0.100000</td>\n",
       "      <td>21.00000</td>\n",
       "      <td>0.000000</td>\n",
       "      <td>250.000000</td>\n",
       "      <td>21.00000</td>\n",
       "    </tr>\n",
       "    <tr>\n",
       "      <th>25%</th>\n",
       "      <td>24999.750000</td>\n",
       "      <td>21000.000000</td>\n",
       "      <td>0.000000</td>\n",
       "      <td>29625.227472</td>\n",
       "      <td>0.200000</td>\n",
       "      <td>40.00000</td>\n",
       "      <td>0.000000</td>\n",
       "      <td>2273.929349</td>\n",
       "      <td>40.00000</td>\n",
       "    </tr>\n",
       "    <tr>\n",
       "      <th>50%</th>\n",
       "      <td>49999.500000</td>\n",
       "      <td>31000.000000</td>\n",
       "      <td>0.000000</td>\n",
       "      <td>35063.852394</td>\n",
       "      <td>0.210000</td>\n",
       "      <td>44.00000</td>\n",
       "      <td>0.000000</td>\n",
       "      <td>2665.441567</td>\n",
       "      <td>44.00000</td>\n",
       "    </tr>\n",
       "    <tr>\n",
       "      <th>75%</th>\n",
       "      <td>74999.250000</td>\n",
       "      <td>40000.000000</td>\n",
       "      <td>1.000000</td>\n",
       "      <td>42133.388817</td>\n",
       "      <td>0.220000</td>\n",
       "      <td>47.00000</td>\n",
       "      <td>1.000000</td>\n",
       "      <td>3146.577655</td>\n",
       "      <td>47.00000</td>\n",
       "    </tr>\n",
       "    <tr>\n",
       "      <th>max</th>\n",
       "      <td>99999.000000</td>\n",
       "      <td>273000.000000</td>\n",
       "      <td>2.000000</td>\n",
       "      <td>150960.000000</td>\n",
       "      <td>0.300000</td>\n",
       "      <td>65.00000</td>\n",
       "      <td>2.000000</td>\n",
       "      <td>10000.000000</td>\n",
       "      <td>65.00000</td>\n",
       "    </tr>\n",
       "  </tbody>\n",
       "</table>\n",
       "</div>"
      ],
      "text/plain": [
       "          Unnamed: 0    loan_amount  number_of_defaults  outstanding_balance  \\\n",
       "count  100000.000000  100000.000000       100000.000000        100000.000000   \n",
       "mean    49999.500000   31120.000000            0.441970         36964.909763   \n",
       "std     28867.657797   15895.093631            0.688286         10014.758477   \n",
       "min         0.000000    1000.000000            0.000000             0.000000   \n",
       "25%     24999.750000   21000.000000            0.000000         29625.227472   \n",
       "50%     49999.500000   31000.000000            0.000000         35063.852394   \n",
       "75%     74999.250000   40000.000000            1.000000         42133.388817   \n",
       "max     99999.000000  273000.000000            2.000000        150960.000000   \n",
       "\n",
       "       interest_rate           age  number_of_defaults.1         salary  \\\n",
       "count  100000.000000  100000.00000         100000.000000  100000.000000   \n",
       "mean        0.210435      43.57069              0.441970    2781.804324   \n",
       "std         0.018725       4.86376              0.688286     696.450055   \n",
       "min         0.100000      21.00000              0.000000     250.000000   \n",
       "25%         0.200000      40.00000              0.000000    2273.929349   \n",
       "50%         0.210000      44.00000              0.000000    2665.441567   \n",
       "75%         0.220000      47.00000              1.000000    3146.577655   \n",
       "max         0.300000      65.00000              2.000000   10000.000000   \n",
       "\n",
       "              age.1  \n",
       "count  100000.00000  \n",
       "mean       43.57069  \n",
       "std         4.86376  \n",
       "min        21.00000  \n",
       "25%        40.00000  \n",
       "50%        44.00000  \n",
       "75%        47.00000  \n",
       "max        65.00000  "
      ]
     },
     "execution_count": 3,
     "metadata": {},
     "output_type": "execute_result"
    }
   ],
   "source": [
    "df.describe()"
   ]
  },
  {
   "cell_type": "code",
   "execution_count": 4,
   "metadata": {},
   "outputs": [
    {
     "data": {
      "text/plain": [
       "(100000, 21)"
      ]
     },
     "execution_count": 4,
     "metadata": {},
     "output_type": "execute_result"
    }
   ],
   "source": [
    "df.shape"
   ]
  },
  {
   "cell_type": "code",
   "execution_count": 5,
   "metadata": {},
   "outputs": [
    {
     "data": {
      "text/plain": [
       "Unnamed: 0                 0\n",
       "loan_id                    0\n",
       "gender                     0\n",
       "disbursemet_date           0\n",
       "currency                   0\n",
       "country                  100\n",
       "sex                        0\n",
       "is_employed                0\n",
       "job                     4136\n",
       "location                 595\n",
       "loan_amount                0\n",
       "number_of_defaults         0\n",
       "outstanding_balance        0\n",
       "interest_rate              0\n",
       "age                        0\n",
       "number_of_defaults.1       0\n",
       "remaining term             0\n",
       "salary                     0\n",
       "marital_status             0\n",
       "age.1                      0\n",
       "Loan Status                0\n",
       "dtype: int64"
      ]
     },
     "execution_count": 5,
     "metadata": {},
     "output_type": "execute_result"
    }
   ],
   "source": [
    "df.isnull().sum()"
   ]
  },
  {
   "cell_type": "code",
   "execution_count": 6,
   "metadata": {},
   "outputs": [
    {
     "data": {
      "text/plain": [
       "array(['Zimbabwe', 'zimbabwe', 'Zim', nan], dtype=object)"
      ]
     },
     "execution_count": 6,
     "metadata": {},
     "output_type": "execute_result"
    }
   ],
   "source": [
    "df['country'].unique()"
   ]
  },
  {
   "cell_type": "code",
   "execution_count": 7,
   "metadata": {},
   "outputs": [
    {
     "data": {
      "text/plain": [
       "country\n",
       "Zimbabwe    99787\n",
       "zimbabwe      100\n",
       "Zim            13\n",
       "Name: count, dtype: int64"
      ]
     },
     "execution_count": 7,
     "metadata": {},
     "output_type": "execute_result"
    }
   ],
   "source": [
    "df['country'].value_counts()"
   ]
  },
  {
   "cell_type": "code",
   "execution_count": 8,
   "metadata": {},
   "outputs": [],
   "source": [
    "# Standizing and Handling Missing Data\n",
    "# Filling values in the 'country' column with 'Zimbabwe'\n",
    "\n",
    "df['country'] = 'Zimbabwe'"
   ]
  },
  {
   "cell_type": "markdown",
   "metadata": {},
   "source": [
    "\n",
    "\n",
    "The dataset contained multiple variations of the country name 'Zimbabwe' and some missing values. To standardize the data, I updated the entire column to 'Zimbabwe'."
   ]
  },
  {
   "cell_type": "code",
   "execution_count": 9,
   "metadata": {},
   "outputs": [
    {
     "data": {
      "text/plain": [
       "job\n",
       "Engineer              16524\n",
       "Nurse                 15284\n",
       "Data Analyst          13204\n",
       "Doctor                12186\n",
       "Software Developer    11932\n",
       "Teacher                8950\n",
       "Accountant             7802\n",
       "SoftwareDeveloper      3564\n",
       "Data Scientist         3521\n",
       "Lawyer                 2862\n",
       "Data Scintist            35\n",
       "Name: count, dtype: int64"
      ]
     },
     "execution_count": 9,
     "metadata": {},
     "output_type": "execute_result"
    }
   ],
   "source": [
    "df['job'].value_counts()"
   ]
  },
  {
   "cell_type": "code",
   "execution_count": 10,
   "metadata": {},
   "outputs": [
    {
     "data": {
      "text/plain": [
       "array(['Teacher', 'Nurse', 'Doctor', 'Data Analyst', 'Software Developer',\n",
       "       'Accountant', 'Lawyer', 'Engineer', nan, 'Data Scientist',\n",
       "       'SoftwareDeveloper', 'Data Scintist'], dtype=object)"
      ]
     },
     "execution_count": 10,
     "metadata": {},
     "output_type": "execute_result"
    }
   ],
   "source": [
    "df['job'].unique()"
   ]
  },
  {
   "cell_type": "code",
   "execution_count": 11,
   "metadata": {},
   "outputs": [
    {
     "name": "stderr",
     "output_type": "stream",
     "text": [
      "C:\\Users\\usar\\AppData\\Local\\Temp\\ipykernel_30484\\3866008592.py:1: FutureWarning: A value is trying to be set on a copy of a DataFrame or Series through chained assignment using an inplace method.\n",
      "The behavior will change in pandas 3.0. This inplace method will never work because the intermediate object on which we are setting values always behaves as a copy.\n",
      "\n",
      "For example, when doing 'df[col].method(value, inplace=True)', try using 'df.method({col: value}, inplace=True)' or df[col] = df[col].method(value) instead, to perform the operation inplace on the original object.\n",
      "\n",
      "\n",
      "  df['job'].replace({'Data Scintist': 'Data Scientist', 'SoftwareDeveloper': 'Software Developer'}, inplace=True)\n"
     ]
    }
   ],
   "source": [
    "df['job'].replace({'Data Scintist': 'Data Scientist', 'SoftwareDeveloper': 'Software Developer'}, inplace=True)"
   ]
  },
  {
   "cell_type": "code",
   "execution_count": 12,
   "metadata": {},
   "outputs": [],
   "source": [
    "df['job'].fillna('Unknown', inplace=True)"
   ]
  },
  {
   "cell_type": "markdown",
   "metadata": {},
   "source": [
    "To handle the missing values, l used the fillna() method to replace NaN values with a specified value, such as 'Unknown'. This ensures that there are no missing values in the column, which is crucial for data analysis and model training.\n",
    "The job column contains variations of the same job title, such as 'Data Scientist', 'Data Scintist', and 'Software Developer', 'SoftwareDeveloper'. These variations can cause issues in analysis and modeling because they are treated as different categories."
   ]
  },
  {
   "cell_type": "code",
   "execution_count": 13,
   "metadata": {},
   "outputs": [
    {
     "data": {
      "text/plain": [
       "array(['Beitbridge', 'Harare', 'Gweru', 'Rusape', 'Chipinge',\n",
       "       'Chimanimani', 'Marondera', 'Kadoma', 'Mutare', 'Masvingo',\n",
       "       'Bulawayo', 'Kariba', 'Plumtree', 'Chiredzi', 'Shurugwi', 'Chivhu',\n",
       "       'Zvishavane', 'Nyanga', 'Karoi', 'Redcliff', 'Kwekwe', ' Karoi ',\n",
       "       'Gokwe', 'Victoria Falls', ' Masvingo ', '   Chipinge   ',\n",
       "       ' Mutare ', nan, '   Mutare ', ' Marondera   ', '   Rusape   ',\n",
       "       ' Bulawayo   ', 'Chivhu ', ' Chimanimani   ', 'Plumtree   ',\n",
       "       '   Masvingo   ', '   Gweru ', '   Chivhu   ', 'Mutare   ',\n",
       "       ' Kwekwe ', 'Marondera   ', ' Chipinge   ', '   Mutare   ',\n",
       "       '   Karoi   ', ' Beitbridge   ', '   Karoi ', ' Beitbridge ',\n",
       "       ' Mutare   ', '   Bulawayo ', 'Masvingo   ', ' Kadoma   ',\n",
       "       ' Plumtree ', 'Marondera ', '   Plumtree ', ' Chipinge ',\n",
       "       '   Harare ', 'Harare   ', ' Nyanga   ', ' Gweru   ', 'Rusape   ',\n",
       "       'Masvingo ', '   Harare   ', ' Kadoma ', 'Bulawayo   ',\n",
       "       ' Kwekwe   ', 'Hwange', ' Harare ', '   Marondera   ',\n",
       "       'Chipinge   ', '   Marondera ', '   Beitbridge ', 'Karoi   ',\n",
       "       'Chimanimani ', ' Bulawayo ', 'Chivhu   ', 'Kwekwe ', ' Kariba   ',\n",
       "       ' Marondera ', 'Plumtree ', '   Bulawayo   ', 'Karoi ',\n",
       "       ' Chivhu   ', '   Nyanga ', '   Chipinge ', ' Rusape   ',\n",
       "       '   Beitbridge   ', ' Harare   ', ' Chivhu ', ' Gweru ',\n",
       "       ' Kariba ', 'Harare ', ' Chimanimani ', 'Beitbridge   ',\n",
       "       '   Chivhu ', '   Gweru   ', 'Chiredzi ', ' Masvingo   ',\n",
       "       ' Zvishavane ', 'Mutare ', '   Chiredzi ', 'Gweru ', 'Gweru   ',\n",
       "       ' Plumtree   ', 'Chiredzi   ', ' Chiredzi ', 'Chipinge ',\n",
       "       ' Rusape ', '   Plumtree   ', '   Kadoma   ', 'Rusape ',\n",
       "       ' Zvishavane   ', '   Masvingo ', 'Nyanga   ', '   Kwekwe   ',\n",
       "       'Chimanimani   ', ' Chiredzi   ', ' Karoi   ', 'Shurugwi ',\n",
       "       'Gokwe ', 'Zvishavane   ', '   Chimanimani ', '   Gokwe ',\n",
       "       'Bulawayo ', '   Shurugwi ', '   Zvishavane   ', 'Beitbridge ',\n",
       "       '   Chimanimani   ', ' Redcliff ', 'Kadoma   ', 'Kwekwe   ',\n",
       "       ' Gokwe ', '   Kadoma ', '   Kwekwe ', '   Shurugwi   ',\n",
       "       '   Nyanga   ', 'Zvishavane ', 'Kariba ', ' Shurugwi   ',\n",
       "       ' Shurugwi ', '   Rusape ', '   Chiredzi   ', '   Redcliff   ',\n",
       "       '   Kariba   ', 'Victoria Falls   ', 'Shurugwi   ', ' Nyanga ',\n",
       "       'Victoria Falls ', '   Gokwe   ', 'Kariba   ', ' Victoria Falls ',\n",
       "       '   Victoria Falls ', 'Nyanga ', 'Kadoma ', ' Gokwe   ',\n",
       "       '   Kariba ', '   Zvishavane ', ' Victoria Falls   ', 'Gokwe   '],\n",
       "      dtype=object)"
      ]
     },
     "execution_count": 13,
     "metadata": {},
     "output_type": "execute_result"
    }
   ],
   "source": [
    "df['location'].unique()"
   ]
  },
  {
   "cell_type": "code",
   "execution_count": 14,
   "metadata": {},
   "outputs": [],
   "source": [
    "# Remove leading and trailing whitespace\n",
    "df['location'] = df['location'].str.strip()"
   ]
  },
  {
   "cell_type": "code",
   "execution_count": 15,
   "metadata": {},
   "outputs": [],
   "source": [
    "# Replace multiple spaces with a single space\n",
    "df['location'] = df['location'].str.replace(r'\\s+', ' ', regex=True)"
   ]
  },
  {
   "cell_type": "code",
   "execution_count": 16,
   "metadata": {},
   "outputs": [],
   "source": [
    "# Replace variations of locations with a standard value\n",
    "standard_locations = {\n",
    "    'Karoi': 'Karoi',\n",
    "    'Masvingo': 'Masvingo',\n",
    "    'Chipinge': 'Chipinge',\n",
    "    'Mutare': 'Mutare',\n",
    "    'Chivhu': 'Chivhu',\n",
    "    'Gweru': 'Gweru',\n",
    "    'Plumtree': 'Plumtree',\n",
    "    'Chiredzi': 'Chiredzi',\n",
    "    'Bulawayo': 'Bulawayo',\n",
    "    'Harare': 'Harare',\n",
    "    'Nyanga': 'Nyanga',\n",
    "    'Kadoma': 'Kadoma',\n",
    "    'Kwekwe': 'Kwekwe',\n",
    "    'Chimanimani': 'Chimanimani',\n",
    "    'Beitbridge': 'Beitbridge',\n",
    "    'Zvishavane': 'Zvishavane',\n",
    "    'Gokwe': 'Gokwe',\n",
    "    'Victoria Falls': 'Victoria Falls',\n",
    "    'Redcliff': 'Redcliff',\n",
    "    'Kariba': 'Kariba',\n",
    "    'Shurugwi': 'Shurugwi',\n",
    "    'Rusape': 'Rusape'\n",
    "}"
   ]
  },
  {
   "cell_type": "code",
   "execution_count": 17,
   "metadata": {},
   "outputs": [],
   "source": [
    "df['location'] = df['location'].replace(standard_locations)"
   ]
  },
  {
   "cell_type": "code",
   "execution_count": 18,
   "metadata": {},
   "outputs": [
    {
     "data": {
      "text/plain": [
       "location\n",
       "Harare            8553\n",
       "Bulawayo          8263\n",
       "Mutare            8262\n",
       "Gweru             7983\n",
       "Masvingo          7665\n",
       "Marondera         7513\n",
       "Rusape            6506\n",
       "Chivhu            6411\n",
       "Plumtree          5552\n",
       "Beitbridge        5311\n",
       "Chipinge          4447\n",
       "Chimanimani       4388\n",
       "Kwekwe            3491\n",
       "Chiredzi          3199\n",
       "Kadoma            3118\n",
       "Nyanga            2142\n",
       "Karoi             1899\n",
       "Shurugwi          1359\n",
       "Zvishavane        1301\n",
       "Gokwe              920\n",
       "Kariba             671\n",
       "Victoria Falls     219\n",
       "Redcliff           191\n",
       "Hwange              41\n",
       "Name: count, dtype: int64"
      ]
     },
     "execution_count": 18,
     "metadata": {},
     "output_type": "execute_result"
    }
   ],
   "source": [
    "df['location'].value_counts()"
   ]
  },
  {
   "cell_type": "code",
   "execution_count": 19,
   "metadata": {},
   "outputs": [
    {
     "data": {
      "text/plain": [
       "array(['female', 'other', 'male'], dtype=object)"
      ]
     },
     "execution_count": 19,
     "metadata": {},
     "output_type": "execute_result"
    }
   ],
   "source": [
    "df['gender'].unique()"
   ]
  },
  {
   "cell_type": "code",
   "execution_count": 20,
   "metadata": {},
   "outputs": [
    {
     "data": {
      "text/plain": [
       "gender\n",
       "male      35028\n",
       "female    32685\n",
       "other     32287\n",
       "Name: count, dtype: int64"
      ]
     },
     "execution_count": 20,
     "metadata": {},
     "output_type": "execute_result"
    }
   ],
   "source": [
    "df['gender'].value_counts()"
   ]
  },
  {
   "cell_type": "code",
   "execution_count": 21,
   "metadata": {},
   "outputs": [
    {
     "data": {
      "text/plain": [
       "array(['female', 'other', 'male'], dtype=object)"
      ]
     },
     "execution_count": 21,
     "metadata": {},
     "output_type": "execute_result"
    }
   ],
   "source": [
    "df['sex'].unique()"
   ]
  },
  {
   "cell_type": "code",
   "execution_count": 22,
   "metadata": {},
   "outputs": [
    {
     "data": {
      "text/plain": [
       "sex\n",
       "male      35028\n",
       "female    32685\n",
       "other     32287\n",
       "Name: count, dtype: int64"
      ]
     },
     "execution_count": 22,
     "metadata": {},
     "output_type": "execute_result"
    }
   ],
   "source": [
    "df['sex'].value_counts()"
   ]
  },
  {
   "cell_type": "code",
   "execution_count": 23,
   "metadata": {},
   "outputs": [],
   "source": [
    "# Drop column 'sex' since it is a duplication of gender\n",
    "df = df.drop('sex', axis=1)"
   ]
  },
  {
   "cell_type": "code",
   "execution_count": 24,
   "metadata": {},
   "outputs": [
    {
     "data": {
      "text/plain": [
       "dtype('O')"
      ]
     },
     "execution_count": 24,
     "metadata": {},
     "output_type": "execute_result"
    }
   ],
   "source": [
    "df['disbursemet_date'].dtype"
   ]
  },
  {
   "cell_type": "code",
   "execution_count": 25,
   "metadata": {},
   "outputs": [],
   "source": [
    "#rename column\n",
    "df.rename(columns={'disbursemet_date': 'disbursement_date'}, inplace=True)"
   ]
  },
  {
   "cell_type": "code",
   "execution_count": 26,
   "metadata": {},
   "outputs": [
    {
     "data": {
      "text/plain": [
       "0    2022 10 29\n",
       "1    2020 06 06\n",
       "2    2023 09 29\n",
       "3    2022 06 22\n",
       "4    2023 02 08\n",
       "Name: disbursement_date, dtype: object"
      ]
     },
     "execution_count": 26,
     "metadata": {},
     "output_type": "execute_result"
    }
   ],
   "source": [
    "df['disbursement_date'].head()"
   ]
  },
  {
   "cell_type": "code",
   "execution_count": 27,
   "metadata": {},
   "outputs": [],
   "source": [
    "# Convert 'disbursement_date' to datetime\n",
    "df['disbursement_date'] = pd.to_datetime(df['disbursement_date'], format='%Y %m %d')"
   ]
  },
  {
   "cell_type": "code",
   "execution_count": 28,
   "metadata": {},
   "outputs": [
    {
     "data": {
      "text/plain": [
       "disbursement_date\n",
       "2020-09-24    103\n",
       "2021-04-13     95\n",
       "2020-11-27     92\n",
       "2022-03-31     91\n",
       "2022-04-07     90\n",
       "             ... \n",
       "2023-04-03     46\n",
       "2020-04-06     45\n",
       "2021-03-28     44\n",
       "2020-08-25     42\n",
       "2021-07-11     41\n",
       "Name: count, Length: 1461, dtype: int64"
      ]
     },
     "execution_count": 28,
     "metadata": {},
     "output_type": "execute_result"
    }
   ],
   "source": [
    "df['disbursement_date'].value_counts()"
   ]
  },
  {
   "cell_type": "code",
   "execution_count": 29,
   "metadata": {},
   "outputs": [
    {
     "name": "stdout",
     "output_type": "stream",
     "text": [
      "<class 'pandas.core.frame.DataFrame'>\n",
      "RangeIndex: 100000 entries, 0 to 99999\n",
      "Data columns (total 20 columns):\n",
      " #   Column                Non-Null Count   Dtype         \n",
      "---  ------                --------------   -----         \n",
      " 0   Unnamed: 0            100000 non-null  int64         \n",
      " 1   loan_id               100000 non-null  object        \n",
      " 2   gender                100000 non-null  object        \n",
      " 3   disbursement_date     100000 non-null  datetime64[ns]\n",
      " 4   currency              100000 non-null  object        \n",
      " 5   country               100000 non-null  object        \n",
      " 6   is_employed           100000 non-null  bool          \n",
      " 7   job                   100000 non-null  object        \n",
      " 8   location              99405 non-null   object        \n",
      " 9   loan_amount           100000 non-null  float64       \n",
      " 10  number_of_defaults    100000 non-null  int64         \n",
      " 11  outstanding_balance   100000 non-null  float64       \n",
      " 12  interest_rate         100000 non-null  float64       \n",
      " 13  age                   100000 non-null  int64         \n",
      " 14  number_of_defaults.1  100000 non-null  int64         \n",
      " 15  remaining term        100000 non-null  object        \n",
      " 16  salary                100000 non-null  float64       \n",
      " 17  marital_status        100000 non-null  object        \n",
      " 18  age.1                 100000 non-null  int64         \n",
      " 19  Loan Status           100000 non-null  object        \n",
      "dtypes: bool(1), datetime64[ns](1), float64(4), int64(5), object(9)\n",
      "memory usage: 14.6+ MB\n"
     ]
    }
   ],
   "source": [
    "df.info()"
   ]
  },
  {
   "cell_type": "code",
   "execution_count": 30,
   "metadata": {},
   "outputs": [
    {
     "data": {
      "text/plain": [
       "array(['USD', '$USD'], dtype=object)"
      ]
     },
     "execution_count": 30,
     "metadata": {},
     "output_type": "execute_result"
    }
   ],
   "source": [
    "df['currency'].unique()"
   ]
  },
  {
   "cell_type": "code",
   "execution_count": 31,
   "metadata": {},
   "outputs": [
    {
     "name": "stderr",
     "output_type": "stream",
     "text": [
      "C:\\Users\\usar\\AppData\\Local\\Temp\\ipykernel_30484\\3899308419.py:2: FutureWarning: A value is trying to be set on a copy of a DataFrame or Series through chained assignment using an inplace method.\n",
      "The behavior will change in pandas 3.0. This inplace method will never work because the intermediate object on which we are setting values always behaves as a copy.\n",
      "\n",
      "For example, when doing 'df[col].method(value, inplace=True)', try using 'df.method({col: value}, inplace=True)' or df[col] = df[col].method(value) instead, to perform the operation inplace on the original object.\n",
      "\n",
      "\n",
      "  df['currency'].replace({'$USD': 'USD'}, inplace=True)\n"
     ]
    }
   ],
   "source": [
    "#standardising currency\n",
    "df['currency'].replace({'$USD': 'USD'}, inplace=True)"
   ]
  },
  {
   "cell_type": "code",
   "execution_count": 32,
   "metadata": {},
   "outputs": [
    {
     "data": {
      "text/html": [
       "<div>\n",
       "<style scoped>\n",
       "    .dataframe tbody tr th:only-of-type {\n",
       "        vertical-align: middle;\n",
       "    }\n",
       "\n",
       "    .dataframe tbody tr th {\n",
       "        vertical-align: top;\n",
       "    }\n",
       "\n",
       "    .dataframe thead th {\n",
       "        text-align: right;\n",
       "    }\n",
       "</style>\n",
       "<table border=\"1\" class=\"dataframe\">\n",
       "  <thead>\n",
       "    <tr style=\"text-align: right;\">\n",
       "      <th></th>\n",
       "      <th>Unnamed: 0</th>\n",
       "      <th>loan_id</th>\n",
       "      <th>gender</th>\n",
       "      <th>disbursement_date</th>\n",
       "      <th>currency</th>\n",
       "      <th>country</th>\n",
       "      <th>is_employed</th>\n",
       "      <th>job</th>\n",
       "      <th>location</th>\n",
       "      <th>loan_amount</th>\n",
       "      <th>number_of_defaults</th>\n",
       "      <th>outstanding_balance</th>\n",
       "      <th>interest_rate</th>\n",
       "      <th>age</th>\n",
       "      <th>number_of_defaults.1</th>\n",
       "      <th>remaining term</th>\n",
       "      <th>salary</th>\n",
       "      <th>marital_status</th>\n",
       "      <th>age.1</th>\n",
       "      <th>Loan Status</th>\n",
       "    </tr>\n",
       "  </thead>\n",
       "  <tbody>\n",
       "    <tr>\n",
       "      <th>0</th>\n",
       "      <td>0</td>\n",
       "      <td>8d05de78-ff32-46b1-aeb5-b3190f9c158a</td>\n",
       "      <td>female</td>\n",
       "      <td>2022-10-29</td>\n",
       "      <td>USD</td>\n",
       "      <td>Zimbabwe</td>\n",
       "      <td>True</td>\n",
       "      <td>Teacher</td>\n",
       "      <td>Beitbridge</td>\n",
       "      <td>39000.0</td>\n",
       "      <td>0</td>\n",
       "      <td>48653.011473</td>\n",
       "      <td>0.22</td>\n",
       "      <td>37</td>\n",
       "      <td>0</td>\n",
       "      <td>47</td>\n",
       "      <td>3230.038869</td>\n",
       "      <td>married</td>\n",
       "      <td>37</td>\n",
       "      <td>Did not default</td>\n",
       "    </tr>\n",
       "    <tr>\n",
       "      <th>1</th>\n",
       "      <td>1</td>\n",
       "      <td>368bf756-fcf2-4822-9612-f445d90b485b</td>\n",
       "      <td>other</td>\n",
       "      <td>2020-06-06</td>\n",
       "      <td>USD</td>\n",
       "      <td>Zimbabwe</td>\n",
       "      <td>True</td>\n",
       "      <td>Teacher</td>\n",
       "      <td>Harare</td>\n",
       "      <td>27000.0</td>\n",
       "      <td>2</td>\n",
       "      <td>28752.062237</td>\n",
       "      <td>0.20</td>\n",
       "      <td>43</td>\n",
       "      <td>2</td>\n",
       "      <td>62</td>\n",
       "      <td>3194.139103</td>\n",
       "      <td>single</td>\n",
       "      <td>43</td>\n",
       "      <td>Did not default</td>\n",
       "    </tr>\n",
       "    <tr>\n",
       "      <th>2</th>\n",
       "      <td>2</td>\n",
       "      <td>6e3be39e-49b5-45b5-aab6-c6556de53c6f</td>\n",
       "      <td>other</td>\n",
       "      <td>2023-09-29</td>\n",
       "      <td>USD</td>\n",
       "      <td>Zimbabwe</td>\n",
       "      <td>True</td>\n",
       "      <td>Nurse</td>\n",
       "      <td>Gweru</td>\n",
       "      <td>35000.0</td>\n",
       "      <td>1</td>\n",
       "      <td>44797.554126</td>\n",
       "      <td>0.22</td>\n",
       "      <td>43</td>\n",
       "      <td>1</td>\n",
       "      <td>57</td>\n",
       "      <td>3330.826656</td>\n",
       "      <td>married</td>\n",
       "      <td>43</td>\n",
       "      <td>Did not default</td>\n",
       "    </tr>\n",
       "    <tr>\n",
       "      <th>3</th>\n",
       "      <td>3</td>\n",
       "      <td>191c62f8-2211-49fe-ba91-43556b307871</td>\n",
       "      <td>female</td>\n",
       "      <td>2022-06-22</td>\n",
       "      <td>USD</td>\n",
       "      <td>Zimbabwe</td>\n",
       "      <td>True</td>\n",
       "      <td>Doctor</td>\n",
       "      <td>Rusape</td>\n",
       "      <td>24000.0</td>\n",
       "      <td>0</td>\n",
       "      <td>35681.496413</td>\n",
       "      <td>0.23</td>\n",
       "      <td>47</td>\n",
       "      <td>0</td>\n",
       "      <td>42</td>\n",
       "      <td>2246.797020</td>\n",
       "      <td>divorced</td>\n",
       "      <td>47</td>\n",
       "      <td>Did not default</td>\n",
       "    </tr>\n",
       "    <tr>\n",
       "      <th>4</th>\n",
       "      <td>4</td>\n",
       "      <td>477cd8a1-3b01-4623-9318-8cd6122a8346</td>\n",
       "      <td>male</td>\n",
       "      <td>2023-02-08</td>\n",
       "      <td>USD</td>\n",
       "      <td>Zimbabwe</td>\n",
       "      <td>True</td>\n",
       "      <td>Nurse</td>\n",
       "      <td>Chipinge</td>\n",
       "      <td>19000.0</td>\n",
       "      <td>0</td>\n",
       "      <td>34156.055882</td>\n",
       "      <td>0.20</td>\n",
       "      <td>42</td>\n",
       "      <td>0</td>\n",
       "      <td>45</td>\n",
       "      <td>2310.858441</td>\n",
       "      <td>married</td>\n",
       "      <td>42</td>\n",
       "      <td>Did not default</td>\n",
       "    </tr>\n",
       "  </tbody>\n",
       "</table>\n",
       "</div>"
      ],
      "text/plain": [
       "   Unnamed: 0                               loan_id  gender disbursement_date  \\\n",
       "0           0  8d05de78-ff32-46b1-aeb5-b3190f9c158a  female        2022-10-29   \n",
       "1           1  368bf756-fcf2-4822-9612-f445d90b485b   other        2020-06-06   \n",
       "2           2  6e3be39e-49b5-45b5-aab6-c6556de53c6f   other        2023-09-29   \n",
       "3           3  191c62f8-2211-49fe-ba91-43556b307871  female        2022-06-22   \n",
       "4           4  477cd8a1-3b01-4623-9318-8cd6122a8346    male        2023-02-08   \n",
       "\n",
       "  currency   country  is_employed      job    location  loan_amount  \\\n",
       "0      USD  Zimbabwe         True  Teacher  Beitbridge      39000.0   \n",
       "1      USD  Zimbabwe         True  Teacher      Harare      27000.0   \n",
       "2      USD  Zimbabwe         True    Nurse       Gweru      35000.0   \n",
       "3      USD  Zimbabwe         True   Doctor      Rusape      24000.0   \n",
       "4      USD  Zimbabwe         True    Nurse    Chipinge      19000.0   \n",
       "\n",
       "   number_of_defaults  outstanding_balance  interest_rate  age  \\\n",
       "0                   0         48653.011473           0.22   37   \n",
       "1                   2         28752.062237           0.20   43   \n",
       "2                   1         44797.554126           0.22   43   \n",
       "3                   0         35681.496413           0.23   47   \n",
       "4                   0         34156.055882           0.20   42   \n",
       "\n",
       "   number_of_defaults.1 remaining term       salary marital_status  age.1  \\\n",
       "0                     0             47  3230.038869        married     37   \n",
       "1                     2             62  3194.139103         single     43   \n",
       "2                     1             57  3330.826656        married     43   \n",
       "3                     0             42  2246.797020       divorced     47   \n",
       "4                     0             45  2310.858441        married     42   \n",
       "\n",
       "       Loan Status  \n",
       "0  Did not default  \n",
       "1  Did not default  \n",
       "2  Did not default  \n",
       "3  Did not default  \n",
       "4  Did not default  "
      ]
     },
     "execution_count": 32,
     "metadata": {},
     "output_type": "execute_result"
    }
   ],
   "source": [
    "df.head()"
   ]
  },
  {
   "cell_type": "code",
   "execution_count": 33,
   "metadata": {},
   "outputs": [
    {
     "data": {
      "text/plain": [
       "array([ True, False])"
      ]
     },
     "execution_count": 33,
     "metadata": {},
     "output_type": "execute_result"
    }
   ],
   "source": [
    "df['is_employed'].unique()"
   ]
  },
  {
   "cell_type": "code",
   "execution_count": 34,
   "metadata": {},
   "outputs": [
    {
     "data": {
      "text/plain": [
       "is_employed\n",
       "True     95864\n",
       "False     4136\n",
       "Name: count, dtype: int64"
      ]
     },
     "execution_count": 34,
     "metadata": {},
     "output_type": "execute_result"
    }
   ],
   "source": [
    "df['is_employed'].value_counts()"
   ]
  },
  {
   "cell_type": "code",
   "execution_count": 35,
   "metadata": {},
   "outputs": [
    {
     "data": {
      "text/plain": [
       "dtype('float64')"
      ]
     },
     "execution_count": 35,
     "metadata": {},
     "output_type": "execute_result"
    }
   ],
   "source": [
    "df['loan_amount'].dtype"
   ]
  },
  {
   "cell_type": "code",
   "execution_count": 36,
   "metadata": {},
   "outputs": [
    {
     "data": {
      "text/plain": [
       "count     100000\n",
       "unique         2\n",
       "top         True\n",
       "freq       95864\n",
       "Name: is_employed, dtype: object"
      ]
     },
     "execution_count": 36,
     "metadata": {},
     "output_type": "execute_result"
    }
   ],
   "source": [
    "df['is_employed'].describe()"
   ]
  },
  {
   "cell_type": "code",
   "execution_count": 37,
   "metadata": {},
   "outputs": [
    {
     "data": {
      "text/plain": [
       "dtype('int64')"
      ]
     },
     "execution_count": 37,
     "metadata": {},
     "output_type": "execute_result"
    }
   ],
   "source": [
    "df['number_of_defaults'].dtype"
   ]
  },
  {
   "cell_type": "code",
   "execution_count": 38,
   "metadata": {},
   "outputs": [
    {
     "data": {
      "text/plain": [
       "count    100000.000000\n",
       "mean          0.441970\n",
       "std           0.688286\n",
       "min           0.000000\n",
       "25%           0.000000\n",
       "50%           0.000000\n",
       "75%           1.000000\n",
       "max           2.000000\n",
       "Name: number_of_defaults, dtype: float64"
      ]
     },
     "execution_count": 38,
     "metadata": {},
     "output_type": "execute_result"
    }
   ],
   "source": [
    "df['number_of_defaults'].describe()"
   ]
  },
  {
   "cell_type": "code",
   "execution_count": 39,
   "metadata": {},
   "outputs": [
    {
     "data": {
      "text/plain": [
       "count    100000.000000\n",
       "mean      36964.909763\n",
       "std       10014.758477\n",
       "min           0.000000\n",
       "25%       29625.227472\n",
       "50%       35063.852394\n",
       "75%       42133.388817\n",
       "max      150960.000000\n",
       "Name: outstanding_balance, dtype: float64"
      ]
     },
     "execution_count": 39,
     "metadata": {},
     "output_type": "execute_result"
    }
   ],
   "source": [
    "df['outstanding_balance'].describe()"
   ]
  },
  {
   "cell_type": "code",
   "execution_count": 40,
   "metadata": {},
   "outputs": [
    {
     "data": {
      "text/plain": [
       "count    100000.000000\n",
       "mean          0.210435\n",
       "std           0.018725\n",
       "min           0.100000\n",
       "25%           0.200000\n",
       "50%           0.210000\n",
       "75%           0.220000\n",
       "max           0.300000\n",
       "Name: interest_rate, dtype: float64"
      ]
     },
     "execution_count": 40,
     "metadata": {},
     "output_type": "execute_result"
    }
   ],
   "source": [
    "df['interest_rate'].describe()"
   ]
  },
  {
   "cell_type": "code",
   "execution_count": 41,
   "metadata": {},
   "outputs": [
    {
     "data": {
      "text/plain": [
       "count    100000.000000\n",
       "mean          0.441970\n",
       "std           0.688286\n",
       "min           0.000000\n",
       "25%           0.000000\n",
       "50%           0.000000\n",
       "75%           1.000000\n",
       "max           2.000000\n",
       "Name: number_of_defaults.1, dtype: float64"
      ]
     },
     "execution_count": 41,
     "metadata": {},
     "output_type": "execute_result"
    }
   ],
   "source": [
    "df['number_of_defaults.1'].describe()"
   ]
  },
  {
   "cell_type": "code",
   "execution_count": 42,
   "metadata": {},
   "outputs": [
    {
     "data": {
      "text/plain": [
       "True"
      ]
     },
     "execution_count": 42,
     "metadata": {},
     "output_type": "execute_result"
    }
   ],
   "source": [
    "df['number_of_defaults'].equals(df['number_of_defaults.1'])"
   ]
  },
  {
   "cell_type": "code",
   "execution_count": 43,
   "metadata": {},
   "outputs": [],
   "source": [
    "#dropping number_deadults.1 since it is a duplication of number_of_defaults\n",
    "df.drop('number_of_defaults.1', axis=1, inplace=True)"
   ]
  },
  {
   "cell_type": "code",
   "execution_count": 44,
   "metadata": {},
   "outputs": [],
   "source": [
    "df.rename(columns={'remaining term': 'remaining_term'}, inplace=True)"
   ]
  },
  {
   "cell_type": "code",
   "execution_count": 45,
   "metadata": {},
   "outputs": [
    {
     "data": {
      "text/plain": [
       "array(['47', '62', '57', '42', '45', '44', '52', '46', '43', '50', '68',\n",
       "       '49', '54', '58', '30', '81', '75', '71', '63', '48', '51', '41',\n",
       "       '64', '69', '39', '67', '83', '66', '56', '55', '61', '35', '77',\n",
       "       '53', '72', '25', '36', '40', '80', '52   ', '59', '32', '65',\n",
       "       '54   ', '34', '60', '69_', '74', '84', '41_', '78', '55   ', '73',\n",
       "       '86', '37', '34_', '60   ', '89', '38', '76', '14', '53_', '70',\n",
       "       '58_', '65   ', '49   ', '26', '58   ', '62   ', '33', '28', '27',\n",
       "       '82', '38_', '47_', '57_', '22', '85', '56   ', '61   ', '52_',\n",
       "       '44_', '45_', '51_', '73   ', '31', '63   ', '29', '65_', '48_',\n",
       "       '47   ', '11', '40   ', '64   ', '87', '39_', '53   ', '59_',\n",
       "       '64_', '33_', '92', '61_', '51   ', '18', '62_', '21', '39   ',\n",
       "       '42   ', '59   ', '71   ', '50_', '82   ', '78_', '79', '55_',\n",
       "       '56_', '23', '67   ', '57   ', '49_', '17', '20', '46_', '45   ',\n",
       "       '24', '29_', '91', '68_', '93', '43   ', '50   ', '69   ', '38   ',\n",
       "       '48   ', '68   ', '88', '67_', '74_', '100', '42_', '76   ', '60_',\n",
       "       '90', '30_', '72_', '66_', '31_', '46   ', '97', '54_', '34   ',\n",
       "       '72   ', '32   ', '28_', '19', '102', '44   ', '112', '33   ',\n",
       "       '15', '103', '105', '14_', '40_', '35_', '116', '32_', '107',\n",
       "       '120', '63_', '73_', '66   ', '79   ', '36   ', '75_', '13',\n",
       "       '41   ', '81_', '19   ', '70   ', '76_', '31   ', '25   ', '16',\n",
       "       '36_', '37   ', '93   ', '20   ', '43_', '95', '71_', '29   ',\n",
       "       '26_', '28   ', '27   ', '104', '77_', '80   ', '74   ', '27_',\n",
       "       '19_', '88_', '30   ', '106', '9', '35   ', '89   ', '78   ',\n",
       "       '37_', '70_', '77   ', '15   ', '101', '108', '94', '75   ', '79_',\n",
       "       '99', '96', '26   ', '81   ', '98', '111', '83_', '80_', '2', '12',\n",
       "       '86   ', '0', '22   ', '10', '84   ', '21   ', '96   ', '94_',\n",
       "       '89_', '83   ', '22_', '2_', '7', '25_', '82_', '86_', '20_',\n",
       "       '14   ', '88   ', '90   ', '85_', '17_', '18_', '8', '12_',\n",
       "       '17   ', '85   ', '114', '91_', '84_', '16_', '5', '94   ', '13_',\n",
       "       '90_'], dtype=object)"
      ]
     },
     "execution_count": 45,
     "metadata": {},
     "output_type": "execute_result"
    }
   ],
   "source": [
    "df['remaining_term'].unique()"
   ]
  },
  {
   "cell_type": "markdown",
   "metadata": {},
   "source": [
    "It appears that the data in the column contains some inconsistencies such as trailing whitespaces, underscores, and other non-numeric characters.l will clean up this data and ensure it consists only of numeric values"
   ]
  },
  {
   "cell_type": "code",
   "execution_count": 46,
   "metadata": {},
   "outputs": [],
   "source": [
    "df['remaining_term'] = df['remaining_term'].str.strip() "
   ]
  },
  {
   "cell_type": "code",
   "execution_count": 47,
   "metadata": {},
   "outputs": [],
   "source": [
    "df['remaining_term'] = df['remaining_term'].str.replace('_', '')"
   ]
  },
  {
   "cell_type": "code",
   "execution_count": 48,
   "metadata": {},
   "outputs": [],
   "source": [
    "df['remaining_term'] = pd.to_numeric(df['remaining_term'], errors='coerce')  # Convert to numeric, coerce errors to NaN"
   ]
  },
  {
   "cell_type": "code",
   "execution_count": 49,
   "metadata": {},
   "outputs": [
    {
     "data": {
      "text/plain": [
       "array([ 47,  62,  57,  42,  45,  44,  52,  46,  43,  50,  68,  49,  54,\n",
       "        58,  30,  81,  75,  71,  63,  48,  51,  41,  64,  69,  39,  67,\n",
       "        83,  66,  56,  55,  61,  35,  77,  53,  72,  25,  36,  40,  80,\n",
       "        59,  32,  65,  34,  60,  74,  84,  78,  73,  86,  37,  89,  38,\n",
       "        76,  14,  70,  26,  33,  28,  27,  82,  22,  85,  31,  29,  11,\n",
       "        87,  92,  18,  21,  79,  23,  17,  20,  24,  91,  93,  88, 100,\n",
       "        90,  97,  19, 102, 112,  15, 103, 105, 116, 107, 120,  13,  16,\n",
       "        95, 104, 106,   9, 101, 108,  94,  99,  96,  98, 111,   2,  12,\n",
       "         0,  10,   7,   8, 114,   5], dtype=int64)"
      ]
     },
     "execution_count": 49,
     "metadata": {},
     "output_type": "execute_result"
    }
   ],
   "source": [
    "df['remaining_term'].unique()"
   ]
  },
  {
   "cell_type": "code",
   "execution_count": 50,
   "metadata": {},
   "outputs": [
    {
     "data": {
      "text/plain": [
       "count    100000.000000\n",
       "mean       2781.804324\n",
       "std         696.450055\n",
       "min         250.000000\n",
       "25%        2273.929349\n",
       "50%        2665.441567\n",
       "75%        3146.577655\n",
       "max       10000.000000\n",
       "Name: salary, dtype: float64"
      ]
     },
     "execution_count": 50,
     "metadata": {},
     "output_type": "execute_result"
    }
   ],
   "source": [
    "df['salary'].describe()"
   ]
  },
  {
   "cell_type": "code",
   "execution_count": 51,
   "metadata": {},
   "outputs": [
    {
     "data": {
      "text/plain": [
       "array(['married', 'single', 'divorced', ' '], dtype=object)"
      ]
     },
     "execution_count": 51,
     "metadata": {},
     "output_type": "execute_result"
    }
   ],
   "source": [
    "df['marital_status'].unique()"
   ]
  },
  {
   "cell_type": "code",
   "execution_count": 52,
   "metadata": {},
   "outputs": [
    {
     "data": {
      "text/plain": [
       "marital_status\n",
       "married     44710\n",
       "divorced    26465\n",
       "single      25698\n",
       "             3127\n",
       "Name: count, dtype: int64"
      ]
     },
     "execution_count": 52,
     "metadata": {},
     "output_type": "execute_result"
    }
   ],
   "source": [
    "df['marital_status'].value_counts()"
   ]
  },
  {
   "cell_type": "markdown",
   "metadata": {},
   "source": [
    "l will handle the empty string values (' ') in the marital_status column and possibly replace them with a meaningful category such as 'unknown'"
   ]
  },
  {
   "cell_type": "code",
   "execution_count": 53,
   "metadata": {},
   "outputs": [],
   "source": [
    "df['marital_status'] = df['marital_status'].replace(' ', 'unknown')"
   ]
  },
  {
   "cell_type": "code",
   "execution_count": 54,
   "metadata": {},
   "outputs": [
    {
     "data": {
      "text/plain": [
       "True"
      ]
     },
     "execution_count": 54,
     "metadata": {},
     "output_type": "execute_result"
    }
   ],
   "source": [
    "df['age'].equals(df['age.1'])"
   ]
  },
  {
   "cell_type": "code",
   "execution_count": 55,
   "metadata": {},
   "outputs": [],
   "source": [
    "#dropping age.1 since it is a duplication of age\n",
    "df.drop('age.1', axis=1, inplace=True)\n",
    "df.drop('loan_id', axis=1, inplace=True)"
   ]
  },
  {
   "cell_type": "code",
   "execution_count": 56,
   "metadata": {},
   "outputs": [],
   "source": [
    "#renaming loan status loan_status\n",
    "df.rename(columns={'Loan Status': 'loan_status'}, inplace=True)"
   ]
  },
  {
   "cell_type": "code",
   "execution_count": 57,
   "metadata": {},
   "outputs": [
    {
     "data": {
      "text/plain": [
       "array(['Did not default', 'Defaulted'], dtype=object)"
      ]
     },
     "execution_count": 57,
     "metadata": {},
     "output_type": "execute_result"
    }
   ],
   "source": [
    "df['loan_status'].unique()"
   ]
  },
  {
   "cell_type": "code",
   "execution_count": 58,
   "metadata": {},
   "outputs": [
    {
     "data": {
      "text/plain": [
       "loan_status\n",
       "Did not default    85134\n",
       "Defaulted          14866\n",
       "Name: count, dtype: int64"
      ]
     },
     "execution_count": 58,
     "metadata": {},
     "output_type": "execute_result"
    }
   ],
   "source": [
    "df['loan_status'].value_counts()"
   ]
  },
  {
   "cell_type": "code",
   "execution_count": 59,
   "metadata": {},
   "outputs": [
    {
     "data": {
      "text/html": [
       "<div>\n",
       "<style scoped>\n",
       "    .dataframe tbody tr th:only-of-type {\n",
       "        vertical-align: middle;\n",
       "    }\n",
       "\n",
       "    .dataframe tbody tr th {\n",
       "        vertical-align: top;\n",
       "    }\n",
       "\n",
       "    .dataframe thead th {\n",
       "        text-align: right;\n",
       "    }\n",
       "</style>\n",
       "<table border=\"1\" class=\"dataframe\">\n",
       "  <thead>\n",
       "    <tr style=\"text-align: right;\">\n",
       "      <th></th>\n",
       "      <th>Unnamed: 0</th>\n",
       "      <th>gender</th>\n",
       "      <th>disbursement_date</th>\n",
       "      <th>currency</th>\n",
       "      <th>country</th>\n",
       "      <th>is_employed</th>\n",
       "      <th>job</th>\n",
       "      <th>location</th>\n",
       "      <th>loan_amount</th>\n",
       "      <th>number_of_defaults</th>\n",
       "      <th>outstanding_balance</th>\n",
       "      <th>interest_rate</th>\n",
       "      <th>age</th>\n",
       "      <th>remaining_term</th>\n",
       "      <th>salary</th>\n",
       "      <th>marital_status</th>\n",
       "      <th>loan_status</th>\n",
       "    </tr>\n",
       "  </thead>\n",
       "  <tbody>\n",
       "    <tr>\n",
       "      <th>0</th>\n",
       "      <td>0</td>\n",
       "      <td>female</td>\n",
       "      <td>2022-10-29</td>\n",
       "      <td>USD</td>\n",
       "      <td>Zimbabwe</td>\n",
       "      <td>True</td>\n",
       "      <td>Teacher</td>\n",
       "      <td>Beitbridge</td>\n",
       "      <td>39000.0</td>\n",
       "      <td>0</td>\n",
       "      <td>48653.011473</td>\n",
       "      <td>0.22</td>\n",
       "      <td>37</td>\n",
       "      <td>47</td>\n",
       "      <td>3230.038869</td>\n",
       "      <td>married</td>\n",
       "      <td>Did not default</td>\n",
       "    </tr>\n",
       "    <tr>\n",
       "      <th>1</th>\n",
       "      <td>1</td>\n",
       "      <td>other</td>\n",
       "      <td>2020-06-06</td>\n",
       "      <td>USD</td>\n",
       "      <td>Zimbabwe</td>\n",
       "      <td>True</td>\n",
       "      <td>Teacher</td>\n",
       "      <td>Harare</td>\n",
       "      <td>27000.0</td>\n",
       "      <td>2</td>\n",
       "      <td>28752.062237</td>\n",
       "      <td>0.20</td>\n",
       "      <td>43</td>\n",
       "      <td>62</td>\n",
       "      <td>3194.139103</td>\n",
       "      <td>single</td>\n",
       "      <td>Did not default</td>\n",
       "    </tr>\n",
       "    <tr>\n",
       "      <th>2</th>\n",
       "      <td>2</td>\n",
       "      <td>other</td>\n",
       "      <td>2023-09-29</td>\n",
       "      <td>USD</td>\n",
       "      <td>Zimbabwe</td>\n",
       "      <td>True</td>\n",
       "      <td>Nurse</td>\n",
       "      <td>Gweru</td>\n",
       "      <td>35000.0</td>\n",
       "      <td>1</td>\n",
       "      <td>44797.554126</td>\n",
       "      <td>0.22</td>\n",
       "      <td>43</td>\n",
       "      <td>57</td>\n",
       "      <td>3330.826656</td>\n",
       "      <td>married</td>\n",
       "      <td>Did not default</td>\n",
       "    </tr>\n",
       "    <tr>\n",
       "      <th>3</th>\n",
       "      <td>3</td>\n",
       "      <td>female</td>\n",
       "      <td>2022-06-22</td>\n",
       "      <td>USD</td>\n",
       "      <td>Zimbabwe</td>\n",
       "      <td>True</td>\n",
       "      <td>Doctor</td>\n",
       "      <td>Rusape</td>\n",
       "      <td>24000.0</td>\n",
       "      <td>0</td>\n",
       "      <td>35681.496413</td>\n",
       "      <td>0.23</td>\n",
       "      <td>47</td>\n",
       "      <td>42</td>\n",
       "      <td>2246.797020</td>\n",
       "      <td>divorced</td>\n",
       "      <td>Did not default</td>\n",
       "    </tr>\n",
       "    <tr>\n",
       "      <th>4</th>\n",
       "      <td>4</td>\n",
       "      <td>male</td>\n",
       "      <td>2023-02-08</td>\n",
       "      <td>USD</td>\n",
       "      <td>Zimbabwe</td>\n",
       "      <td>True</td>\n",
       "      <td>Nurse</td>\n",
       "      <td>Chipinge</td>\n",
       "      <td>19000.0</td>\n",
       "      <td>0</td>\n",
       "      <td>34156.055882</td>\n",
       "      <td>0.20</td>\n",
       "      <td>42</td>\n",
       "      <td>45</td>\n",
       "      <td>2310.858441</td>\n",
       "      <td>married</td>\n",
       "      <td>Did not default</td>\n",
       "    </tr>\n",
       "    <tr>\n",
       "      <th>5</th>\n",
       "      <td>5</td>\n",
       "      <td>other</td>\n",
       "      <td>2020-11-15</td>\n",
       "      <td>USD</td>\n",
       "      <td>Zimbabwe</td>\n",
       "      <td>True</td>\n",
       "      <td>Data Analyst</td>\n",
       "      <td>Chimanimani</td>\n",
       "      <td>29000.0</td>\n",
       "      <td>0</td>\n",
       "      <td>37778.075179</td>\n",
       "      <td>0.21</td>\n",
       "      <td>46</td>\n",
       "      <td>44</td>\n",
       "      <td>2633.653709</td>\n",
       "      <td>single</td>\n",
       "      <td>Did not default</td>\n",
       "    </tr>\n",
       "    <tr>\n",
       "      <th>6</th>\n",
       "      <td>6</td>\n",
       "      <td>male</td>\n",
       "      <td>2023-11-09</td>\n",
       "      <td>USD</td>\n",
       "      <td>Zimbabwe</td>\n",
       "      <td>True</td>\n",
       "      <td>Teacher</td>\n",
       "      <td>Harare</td>\n",
       "      <td>24000.0</td>\n",
       "      <td>0</td>\n",
       "      <td>28675.968452</td>\n",
       "      <td>0.22</td>\n",
       "      <td>47</td>\n",
       "      <td>52</td>\n",
       "      <td>2554.371003</td>\n",
       "      <td>single</td>\n",
       "      <td>Did not default</td>\n",
       "    </tr>\n",
       "    <tr>\n",
       "      <th>7</th>\n",
       "      <td>7</td>\n",
       "      <td>female</td>\n",
       "      <td>2021-03-18</td>\n",
       "      <td>USD</td>\n",
       "      <td>Zimbabwe</td>\n",
       "      <td>True</td>\n",
       "      <td>Data Analyst</td>\n",
       "      <td>Marondera</td>\n",
       "      <td>38000.0</td>\n",
       "      <td>1</td>\n",
       "      <td>38406.933711</td>\n",
       "      <td>0.22</td>\n",
       "      <td>39</td>\n",
       "      <td>46</td>\n",
       "      <td>2847.991485</td>\n",
       "      <td>married</td>\n",
       "      <td>Did not default</td>\n",
       "    </tr>\n",
       "    <tr>\n",
       "      <th>8</th>\n",
       "      <td>8</td>\n",
       "      <td>other</td>\n",
       "      <td>2020-04-04</td>\n",
       "      <td>USD</td>\n",
       "      <td>Zimbabwe</td>\n",
       "      <td>True</td>\n",
       "      <td>Nurse</td>\n",
       "      <td>Kadoma</td>\n",
       "      <td>23000.0</td>\n",
       "      <td>0</td>\n",
       "      <td>28015.543801</td>\n",
       "      <td>0.22</td>\n",
       "      <td>46</td>\n",
       "      <td>47</td>\n",
       "      <td>2521.387875</td>\n",
       "      <td>married</td>\n",
       "      <td>Did not default</td>\n",
       "    </tr>\n",
       "    <tr>\n",
       "      <th>9</th>\n",
       "      <td>9</td>\n",
       "      <td>male</td>\n",
       "      <td>2020-12-03</td>\n",
       "      <td>USD</td>\n",
       "      <td>Zimbabwe</td>\n",
       "      <td>True</td>\n",
       "      <td>Nurse</td>\n",
       "      <td>Marondera</td>\n",
       "      <td>50000.0</td>\n",
       "      <td>1</td>\n",
       "      <td>61800.467639</td>\n",
       "      <td>0.24</td>\n",
       "      <td>37</td>\n",
       "      <td>43</td>\n",
       "      <td>2799.437570</td>\n",
       "      <td>divorced</td>\n",
       "      <td>Did not default</td>\n",
       "    </tr>\n",
       "  </tbody>\n",
       "</table>\n",
       "</div>"
      ],
      "text/plain": [
       "   Unnamed: 0  gender disbursement_date currency   country  is_employed  \\\n",
       "0           0  female        2022-10-29      USD  Zimbabwe         True   \n",
       "1           1   other        2020-06-06      USD  Zimbabwe         True   \n",
       "2           2   other        2023-09-29      USD  Zimbabwe         True   \n",
       "3           3  female        2022-06-22      USD  Zimbabwe         True   \n",
       "4           4    male        2023-02-08      USD  Zimbabwe         True   \n",
       "5           5   other        2020-11-15      USD  Zimbabwe         True   \n",
       "6           6    male        2023-11-09      USD  Zimbabwe         True   \n",
       "7           7  female        2021-03-18      USD  Zimbabwe         True   \n",
       "8           8   other        2020-04-04      USD  Zimbabwe         True   \n",
       "9           9    male        2020-12-03      USD  Zimbabwe         True   \n",
       "\n",
       "            job     location  loan_amount  number_of_defaults  \\\n",
       "0       Teacher   Beitbridge      39000.0                   0   \n",
       "1       Teacher       Harare      27000.0                   2   \n",
       "2         Nurse        Gweru      35000.0                   1   \n",
       "3        Doctor       Rusape      24000.0                   0   \n",
       "4         Nurse     Chipinge      19000.0                   0   \n",
       "5  Data Analyst  Chimanimani      29000.0                   0   \n",
       "6       Teacher       Harare      24000.0                   0   \n",
       "7  Data Analyst    Marondera      38000.0                   1   \n",
       "8         Nurse       Kadoma      23000.0                   0   \n",
       "9         Nurse    Marondera      50000.0                   1   \n",
       "\n",
       "   outstanding_balance  interest_rate  age  remaining_term       salary  \\\n",
       "0         48653.011473           0.22   37              47  3230.038869   \n",
       "1         28752.062237           0.20   43              62  3194.139103   \n",
       "2         44797.554126           0.22   43              57  3330.826656   \n",
       "3         35681.496413           0.23   47              42  2246.797020   \n",
       "4         34156.055882           0.20   42              45  2310.858441   \n",
       "5         37778.075179           0.21   46              44  2633.653709   \n",
       "6         28675.968452           0.22   47              52  2554.371003   \n",
       "7         38406.933711           0.22   39              46  2847.991485   \n",
       "8         28015.543801           0.22   46              47  2521.387875   \n",
       "9         61800.467639           0.24   37              43  2799.437570   \n",
       "\n",
       "  marital_status      loan_status  \n",
       "0        married  Did not default  \n",
       "1         single  Did not default  \n",
       "2        married  Did not default  \n",
       "3       divorced  Did not default  \n",
       "4        married  Did not default  \n",
       "5         single  Did not default  \n",
       "6         single  Did not default  \n",
       "7        married  Did not default  \n",
       "8        married  Did not default  \n",
       "9       divorced  Did not default  "
      ]
     },
     "execution_count": 59,
     "metadata": {},
     "output_type": "execute_result"
    }
   ],
   "source": [
    "df.head(10)"
   ]
  },
  {
   "cell_type": "markdown",
   "metadata": {},
   "source": [
    "l am adding a new column target based on the values in the loan_status column, where 'Did not default' corresponds to False and 'Defaulted' corresponds to True"
   ]
  },
  {
   "cell_type": "code",
   "execution_count": 60,
   "metadata": {},
   "outputs": [],
   "source": [
    "\n",
    "def map_loan_status(status):\n",
    "    status_map = {\n",
    "        'Did not default': False,\n",
    "        'Defaulted': True\n",
    "    }\n",
    "    return status_map.get(status, None)\n"
   ]
  },
  {
   "cell_type": "code",
   "execution_count": 61,
   "metadata": {},
   "outputs": [],
   "source": [
    "df['target'] = df['loan_status'].apply(lambda x: map_loan_status(x))"
   ]
  },
  {
   "cell_type": "code",
   "execution_count": 62,
   "metadata": {},
   "outputs": [
    {
     "data": {
      "text/html": [
       "<div>\n",
       "<style scoped>\n",
       "    .dataframe tbody tr th:only-of-type {\n",
       "        vertical-align: middle;\n",
       "    }\n",
       "\n",
       "    .dataframe tbody tr th {\n",
       "        vertical-align: top;\n",
       "    }\n",
       "\n",
       "    .dataframe thead th {\n",
       "        text-align: right;\n",
       "    }\n",
       "</style>\n",
       "<table border=\"1\" class=\"dataframe\">\n",
       "  <thead>\n",
       "    <tr style=\"text-align: right;\">\n",
       "      <th></th>\n",
       "      <th>Unnamed: 0</th>\n",
       "      <th>gender</th>\n",
       "      <th>disbursement_date</th>\n",
       "      <th>currency</th>\n",
       "      <th>country</th>\n",
       "      <th>is_employed</th>\n",
       "      <th>job</th>\n",
       "      <th>location</th>\n",
       "      <th>loan_amount</th>\n",
       "      <th>number_of_defaults</th>\n",
       "      <th>outstanding_balance</th>\n",
       "      <th>interest_rate</th>\n",
       "      <th>age</th>\n",
       "      <th>remaining_term</th>\n",
       "      <th>salary</th>\n",
       "      <th>marital_status</th>\n",
       "      <th>loan_status</th>\n",
       "      <th>target</th>\n",
       "    </tr>\n",
       "  </thead>\n",
       "  <tbody>\n",
       "    <tr>\n",
       "      <th>0</th>\n",
       "      <td>0</td>\n",
       "      <td>female</td>\n",
       "      <td>2022-10-29</td>\n",
       "      <td>USD</td>\n",
       "      <td>Zimbabwe</td>\n",
       "      <td>True</td>\n",
       "      <td>Teacher</td>\n",
       "      <td>Beitbridge</td>\n",
       "      <td>39000.0</td>\n",
       "      <td>0</td>\n",
       "      <td>48653.011473</td>\n",
       "      <td>0.22</td>\n",
       "      <td>37</td>\n",
       "      <td>47</td>\n",
       "      <td>3230.038869</td>\n",
       "      <td>married</td>\n",
       "      <td>Did not default</td>\n",
       "      <td>False</td>\n",
       "    </tr>\n",
       "    <tr>\n",
       "      <th>1</th>\n",
       "      <td>1</td>\n",
       "      <td>other</td>\n",
       "      <td>2020-06-06</td>\n",
       "      <td>USD</td>\n",
       "      <td>Zimbabwe</td>\n",
       "      <td>True</td>\n",
       "      <td>Teacher</td>\n",
       "      <td>Harare</td>\n",
       "      <td>27000.0</td>\n",
       "      <td>2</td>\n",
       "      <td>28752.062237</td>\n",
       "      <td>0.20</td>\n",
       "      <td>43</td>\n",
       "      <td>62</td>\n",
       "      <td>3194.139103</td>\n",
       "      <td>single</td>\n",
       "      <td>Did not default</td>\n",
       "      <td>False</td>\n",
       "    </tr>\n",
       "    <tr>\n",
       "      <th>2</th>\n",
       "      <td>2</td>\n",
       "      <td>other</td>\n",
       "      <td>2023-09-29</td>\n",
       "      <td>USD</td>\n",
       "      <td>Zimbabwe</td>\n",
       "      <td>True</td>\n",
       "      <td>Nurse</td>\n",
       "      <td>Gweru</td>\n",
       "      <td>35000.0</td>\n",
       "      <td>1</td>\n",
       "      <td>44797.554126</td>\n",
       "      <td>0.22</td>\n",
       "      <td>43</td>\n",
       "      <td>57</td>\n",
       "      <td>3330.826656</td>\n",
       "      <td>married</td>\n",
       "      <td>Did not default</td>\n",
       "      <td>False</td>\n",
       "    </tr>\n",
       "    <tr>\n",
       "      <th>3</th>\n",
       "      <td>3</td>\n",
       "      <td>female</td>\n",
       "      <td>2022-06-22</td>\n",
       "      <td>USD</td>\n",
       "      <td>Zimbabwe</td>\n",
       "      <td>True</td>\n",
       "      <td>Doctor</td>\n",
       "      <td>Rusape</td>\n",
       "      <td>24000.0</td>\n",
       "      <td>0</td>\n",
       "      <td>35681.496413</td>\n",
       "      <td>0.23</td>\n",
       "      <td>47</td>\n",
       "      <td>42</td>\n",
       "      <td>2246.797020</td>\n",
       "      <td>divorced</td>\n",
       "      <td>Did not default</td>\n",
       "      <td>False</td>\n",
       "    </tr>\n",
       "    <tr>\n",
       "      <th>4</th>\n",
       "      <td>4</td>\n",
       "      <td>male</td>\n",
       "      <td>2023-02-08</td>\n",
       "      <td>USD</td>\n",
       "      <td>Zimbabwe</td>\n",
       "      <td>True</td>\n",
       "      <td>Nurse</td>\n",
       "      <td>Chipinge</td>\n",
       "      <td>19000.0</td>\n",
       "      <td>0</td>\n",
       "      <td>34156.055882</td>\n",
       "      <td>0.20</td>\n",
       "      <td>42</td>\n",
       "      <td>45</td>\n",
       "      <td>2310.858441</td>\n",
       "      <td>married</td>\n",
       "      <td>Did not default</td>\n",
       "      <td>False</td>\n",
       "    </tr>\n",
       "  </tbody>\n",
       "</table>\n",
       "</div>"
      ],
      "text/plain": [
       "   Unnamed: 0  gender disbursement_date currency   country  is_employed  \\\n",
       "0           0  female        2022-10-29      USD  Zimbabwe         True   \n",
       "1           1   other        2020-06-06      USD  Zimbabwe         True   \n",
       "2           2   other        2023-09-29      USD  Zimbabwe         True   \n",
       "3           3  female        2022-06-22      USD  Zimbabwe         True   \n",
       "4           4    male        2023-02-08      USD  Zimbabwe         True   \n",
       "\n",
       "       job    location  loan_amount  number_of_defaults  outstanding_balance  \\\n",
       "0  Teacher  Beitbridge      39000.0                   0         48653.011473   \n",
       "1  Teacher      Harare      27000.0                   2         28752.062237   \n",
       "2    Nurse       Gweru      35000.0                   1         44797.554126   \n",
       "3   Doctor      Rusape      24000.0                   0         35681.496413   \n",
       "4    Nurse    Chipinge      19000.0                   0         34156.055882   \n",
       "\n",
       "   interest_rate  age  remaining_term       salary marital_status  \\\n",
       "0           0.22   37              47  3230.038869        married   \n",
       "1           0.20   43              62  3194.139103         single   \n",
       "2           0.22   43              57  3330.826656        married   \n",
       "3           0.23   47              42  2246.797020       divorced   \n",
       "4           0.20   42              45  2310.858441        married   \n",
       "\n",
       "       loan_status  target  \n",
       "0  Did not default   False  \n",
       "1  Did not default   False  \n",
       "2  Did not default   False  \n",
       "3  Did not default   False  \n",
       "4  Did not default   False  "
      ]
     },
     "execution_count": 62,
     "metadata": {},
     "output_type": "execute_result"
    }
   ],
   "source": [
    "df.head()"
   ]
  },
  {
   "cell_type": "code",
   "execution_count": 63,
   "metadata": {},
   "outputs": [],
   "source": [
    "#exporting the processed data to csv:\n",
    "\n",
    "timestamp = datetime.now().strftime(\"%Y%m%d_%H%M%S\")\n",
    "output_path = f'../data/processed/cleaned_data_{timestamp}.csv'\n",
    "df.to_csv(output_path, index=False)"
   ]
  },
  {
   "cell_type": "markdown",
   "metadata": {},
   "source": [
    "Here's a summary of the data preprocessing steps l performed:\n",
    "\n",
    "---\n",
    "\n",
    "### Data Preprocessing Summary\n",
    "\n",
    "#### 1. **Handling Missing Data**\n",
    "\n",
    "- **Country Column:** Filled missing values with 'Zimbabwe' due to majority presence and the dataset's focus.\n",
    "\n",
    "#### 2. **Handling Categorical Data**\n",
    "\n",
    "- **Marital Status Column:** Mapped empty strings to 'Unknown' for clarity and consistency.\n",
    "\n",
    "#### 3. **Standardizing Numeric Data**\n",
    "\n",
    "- **Age Column:** Cleaned trailing whitespace and converted to integer type.\n",
    "\n",
    "#### 4. **Feature Engineering**\n",
    "\n",
    "- **Loan Status Column:** Created a new binary column 'target' based on 'loan_status':\n",
    "  - 'Did not default' mapped to `False`.\n",
    "  - 'Defaulted' mapped to `True`.\n",
    "\n",
    "#### 5. **Function Refactoring**\n",
    "\n",
    "- **Mapping Function:** Refactored `map_loan_status` to handle 'Did not default', 'Defaulted', and other cases gracefully.\n",
    "\n",
    "\n",
    "\n"
   ]
  },
  {
   "cell_type": "code",
   "execution_count": null,
   "metadata": {},
   "outputs": [],
   "source": []
  }
 ],
 "metadata": {
  "kernelspec": {
   "display_name": "claxon-env",
   "language": "python",
   "name": "python3"
  },
  "language_info": {
   "codemirror_mode": {
    "name": "ipython",
    "version": 3
   },
   "file_extension": ".py",
   "mimetype": "text/x-python",
   "name": "python",
   "nbconvert_exporter": "python",
   "pygments_lexer": "ipython3",
   "version": "3.12.2"
  }
 },
 "nbformat": 4,
 "nbformat_minor": 2
}

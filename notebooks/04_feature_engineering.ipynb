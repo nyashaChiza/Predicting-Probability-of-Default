{
 "cells": [
  {
   "cell_type": "code",
   "execution_count": 56,
   "metadata": {},
   "outputs": [],
   "source": [
    "import pandas as pd\n",
    "from sklearn.preprocessing import StandardScaler\n",
    "import matplotlib.pyplot as plt\n",
    "import seaborn as sns\n",
    "from sklearn.ensemble import RandomForestClassifier\n",
    "from sklearn.feature_selection import RFE\n",
    "from sklearn.linear_model import LogisticRegression\n"
   ]
  },
  {
   "cell_type": "code",
   "execution_count": 45,
   "metadata": {},
   "outputs": [],
   "source": [
    "# Load data\n",
    "df = pd.read_csv('../data/processed/cleaned_data_20240621_143909.csv')"
   ]
  },
  {
   "cell_type": "code",
   "execution_count": 46,
   "metadata": {},
   "outputs": [],
   "source": [
    "# Drop duplicates\n",
    "df.drop_duplicates(inplace=True)\n",
    "\n",
    "# Remove a specific column\n",
    "df = df.drop('Unnamed: 0', axis=1)"
   ]
  },
  {
   "cell_type": "code",
   "execution_count": 47,
   "metadata": {},
   "outputs": [
    {
     "data": {
      "text/plain": [
       "count    100000.00000\n",
       "mean         43.57069\n",
       "std           4.86376\n",
       "min          21.00000\n",
       "25%          40.00000\n",
       "50%          44.00000\n",
       "75%          47.00000\n",
       "max          65.00000\n",
       "Name: age, dtype: float64"
      ]
     },
     "execution_count": 47,
     "metadata": {},
     "output_type": "execute_result"
    }
   ],
   "source": [
    "#summary of the age column\n",
    "df['age'].describe()"
   ]
  },
  {
   "cell_type": "code",
   "execution_count": 48,
   "metadata": {},
   "outputs": [
    {
     "data": {
      "text/html": [
       "<div>\n",
       "<style scoped>\n",
       "    .dataframe tbody tr th:only-of-type {\n",
       "        vertical-align: middle;\n",
       "    }\n",
       "\n",
       "    .dataframe tbody tr th {\n",
       "        vertical-align: top;\n",
       "    }\n",
       "\n",
       "    .dataframe thead th {\n",
       "        text-align: right;\n",
       "    }\n",
       "</style>\n",
       "<table border=\"1\" class=\"dataframe\">\n",
       "  <thead>\n",
       "    <tr style=\"text-align: right;\">\n",
       "      <th></th>\n",
       "      <th>age</th>\n",
       "      <th>age_group</th>\n",
       "    </tr>\n",
       "  </thead>\n",
       "  <tbody>\n",
       "    <tr>\n",
       "      <th>0</th>\n",
       "      <td>37</td>\n",
       "      <td>31-40</td>\n",
       "    </tr>\n",
       "    <tr>\n",
       "      <th>1</th>\n",
       "      <td>43</td>\n",
       "      <td>41-50</td>\n",
       "    </tr>\n",
       "    <tr>\n",
       "      <th>2</th>\n",
       "      <td>43</td>\n",
       "      <td>41-50</td>\n",
       "    </tr>\n",
       "    <tr>\n",
       "      <th>3</th>\n",
       "      <td>47</td>\n",
       "      <td>41-50</td>\n",
       "    </tr>\n",
       "    <tr>\n",
       "      <th>4</th>\n",
       "      <td>42</td>\n",
       "      <td>41-50</td>\n",
       "    </tr>\n",
       "  </tbody>\n",
       "</table>\n",
       "</div>"
      ],
      "text/plain": [
       "   age age_group\n",
       "0   37     31-40\n",
       "1   43     41-50\n",
       "2   43     41-50\n",
       "3   47     41-50\n",
       "4   42     41-50"
      ]
     },
     "execution_count": 48,
     "metadata": {},
     "output_type": "execute_result"
    }
   ],
   "source": [
    "#Bining the age column into age groups \n",
    "\n",
    "# Define bins for age groups\n",
    "bins = [0, 18, 30, 40, 50, float('inf')]  # Example bins, adjust as needed\n",
    "labels = ['0-18', '19-30', '31-40', '41-50', '51+']\n",
    "\n",
    "# Create age_group column using pd.cut\n",
    "df['age_group'] = pd.cut(df['age'], bins=bins, labels=labels, right=False)\n",
    "df[['age', 'age_group']].head()\n"
   ]
  },
  {
   "cell_type": "code",
   "execution_count": 49,
   "metadata": {},
   "outputs": [
    {
     "data": {
      "text/plain": [
       "count    100000.000000\n",
       "mean       2781.804324\n",
       "std         696.450055\n",
       "min         250.000000\n",
       "25%        2273.929349\n",
       "50%        2665.441567\n",
       "75%        3146.577655\n",
       "max       10000.000000\n",
       "Name: salary, dtype: float64"
      ]
     },
     "execution_count": 49,
     "metadata": {},
     "output_type": "execute_result"
    }
   ],
   "source": [
    "#summary of the salary column\n",
    "df['salary'].describe()"
   ]
  },
  {
   "cell_type": "code",
   "execution_count": 50,
   "metadata": {},
   "outputs": [
    {
     "data": {
      "text/html": [
       "<div>\n",
       "<style scoped>\n",
       "    .dataframe tbody tr th:only-of-type {\n",
       "        vertical-align: middle;\n",
       "    }\n",
       "\n",
       "    .dataframe tbody tr th {\n",
       "        vertical-align: top;\n",
       "    }\n",
       "\n",
       "    .dataframe thead th {\n",
       "        text-align: right;\n",
       "    }\n",
       "</style>\n",
       "<table border=\"1\" class=\"dataframe\">\n",
       "  <thead>\n",
       "    <tr style=\"text-align: right;\">\n",
       "      <th></th>\n",
       "      <th>salary</th>\n",
       "      <th>salary_group</th>\n",
       "    </tr>\n",
       "  </thead>\n",
       "  <tbody>\n",
       "    <tr>\n",
       "      <th>0</th>\n",
       "      <td>3230.038869</td>\n",
       "      <td>High</td>\n",
       "    </tr>\n",
       "    <tr>\n",
       "      <th>1</th>\n",
       "      <td>3194.139103</td>\n",
       "      <td>High</td>\n",
       "    </tr>\n",
       "    <tr>\n",
       "      <th>2</th>\n",
       "      <td>3330.826656</td>\n",
       "      <td>High</td>\n",
       "    </tr>\n",
       "    <tr>\n",
       "      <th>3</th>\n",
       "      <td>2246.797020</td>\n",
       "      <td>Low</td>\n",
       "    </tr>\n",
       "    <tr>\n",
       "      <th>4</th>\n",
       "      <td>2310.858441</td>\n",
       "      <td>Medium-Low</td>\n",
       "    </tr>\n",
       "  </tbody>\n",
       "</table>\n",
       "</div>"
      ],
      "text/plain": [
       "        salary salary_group\n",
       "0  3230.038869         High\n",
       "1  3194.139103         High\n",
       "2  3330.826656         High\n",
       "3  2246.797020          Low\n",
       "4  2310.858441   Medium-Low"
      ]
     },
     "execution_count": 50,
     "metadata": {},
     "output_type": "execute_result"
    }
   ],
   "source": [
    "\n",
    "\n",
    "# Define bins and labels based on the summary statistics\n",
    "salary_bins = [0, 2273.93, 2665.44, 3146.58, 10000]  # Adjusted bins based on quartiles and max salary\n",
    "salary_labels = ['Low', 'Medium-Low', 'Medium-High', 'High']\n",
    "\n",
    "# Create salary_group column using pd.cut\n",
    "df['salary_group'] = pd.cut(df['salary'], bins=salary_bins, labels=salary_labels, right=False)\n",
    "\n",
    "df[['salary','salary_group']].head()"
   ]
  },
  {
   "cell_type": "code",
   "execution_count": 51,
   "metadata": {},
   "outputs": [
    {
     "data": {
      "text/plain": [
       "['loan_amount',\n",
       " 'number_of_defaults',\n",
       " 'outstanding_balance',\n",
       " 'interest_rate',\n",
       " 'age',\n",
       " 'remaining_term',\n",
       " 'salary']"
      ]
     },
     "execution_count": 51,
     "metadata": {},
     "output_type": "execute_result"
    }
   ],
   "source": [
    "#numerical features\n",
    "numeric_features = df.select_dtypes(include=['float64', 'int64']).columns.tolist()\n",
    "numeric_features"
   ]
  },
  {
   "cell_type": "code",
   "execution_count": 52,
   "metadata": {},
   "outputs": [
    {
     "data": {
      "text/html": [
       "<div>\n",
       "<style scoped>\n",
       "    .dataframe tbody tr th:only-of-type {\n",
       "        vertical-align: middle;\n",
       "    }\n",
       "\n",
       "    .dataframe tbody tr th {\n",
       "        vertical-align: top;\n",
       "    }\n",
       "\n",
       "    .dataframe thead th {\n",
       "        text-align: right;\n",
       "    }\n",
       "</style>\n",
       "<table border=\"1\" class=\"dataframe\">\n",
       "  <thead>\n",
       "    <tr style=\"text-align: right;\">\n",
       "      <th></th>\n",
       "      <th>gender</th>\n",
       "      <th>disbursement_date</th>\n",
       "      <th>currency</th>\n",
       "      <th>country</th>\n",
       "      <th>is_employed</th>\n",
       "      <th>job</th>\n",
       "      <th>location</th>\n",
       "      <th>loan_amount</th>\n",
       "      <th>number_of_defaults</th>\n",
       "      <th>outstanding_balance</th>\n",
       "      <th>interest_rate</th>\n",
       "      <th>age</th>\n",
       "      <th>remaining_term</th>\n",
       "      <th>salary</th>\n",
       "      <th>marital_status</th>\n",
       "      <th>loan_status</th>\n",
       "      <th>target</th>\n",
       "      <th>age_group</th>\n",
       "      <th>salary_group</th>\n",
       "    </tr>\n",
       "  </thead>\n",
       "  <tbody>\n",
       "    <tr>\n",
       "      <th>0</th>\n",
       "      <td>female</td>\n",
       "      <td>2022-10-29</td>\n",
       "      <td>USD</td>\n",
       "      <td>Zimbabwe</td>\n",
       "      <td>True</td>\n",
       "      <td>Teacher</td>\n",
       "      <td>Beitbridge</td>\n",
       "      <td>0.495753</td>\n",
       "      <td>-0.642135</td>\n",
       "      <td>1.167094</td>\n",
       "      <td>0.510797</td>\n",
       "      <td>-1.350955</td>\n",
       "      <td>-0.490738</td>\n",
       "      <td>0.643602</td>\n",
       "      <td>married</td>\n",
       "      <td>Did not default</td>\n",
       "      <td>False</td>\n",
       "      <td>31-40</td>\n",
       "      <td>High</td>\n",
       "    </tr>\n",
       "    <tr>\n",
       "      <th>1</th>\n",
       "      <td>other</td>\n",
       "      <td>2020-06-06</td>\n",
       "      <td>USD</td>\n",
       "      <td>Zimbabwe</td>\n",
       "      <td>True</td>\n",
       "      <td>Teacher</td>\n",
       "      <td>Harare</td>\n",
       "      <td>-0.259201</td>\n",
       "      <td>2.263650</td>\n",
       "      <td>-0.820079</td>\n",
       "      <td>-0.557302</td>\n",
       "      <td>-0.117336</td>\n",
       "      <td>0.760746</td>\n",
       "      <td>0.592055</td>\n",
       "      <td>single</td>\n",
       "      <td>Did not default</td>\n",
       "      <td>False</td>\n",
       "      <td>41-50</td>\n",
       "      <td>High</td>\n",
       "    </tr>\n",
       "    <tr>\n",
       "      <th>2</th>\n",
       "      <td>other</td>\n",
       "      <td>2023-09-29</td>\n",
       "      <td>USD</td>\n",
       "      <td>Zimbabwe</td>\n",
       "      <td>True</td>\n",
       "      <td>Nurse</td>\n",
       "      <td>Gweru</td>\n",
       "      <td>0.244102</td>\n",
       "      <td>0.810757</td>\n",
       "      <td>0.782114</td>\n",
       "      <td>0.510797</td>\n",
       "      <td>-0.117336</td>\n",
       "      <td>0.343585</td>\n",
       "      <td>0.788319</td>\n",
       "      <td>married</td>\n",
       "      <td>Did not default</td>\n",
       "      <td>False</td>\n",
       "      <td>41-50</td>\n",
       "      <td>High</td>\n",
       "    </tr>\n",
       "    <tr>\n",
       "      <th>3</th>\n",
       "      <td>female</td>\n",
       "      <td>2022-06-22</td>\n",
       "      <td>USD</td>\n",
       "      <td>Zimbabwe</td>\n",
       "      <td>True</td>\n",
       "      <td>Doctor</td>\n",
       "      <td>Rusape</td>\n",
       "      <td>-0.447939</td>\n",
       "      <td>-0.642135</td>\n",
       "      <td>-0.128153</td>\n",
       "      <td>1.044846</td>\n",
       "      <td>0.705077</td>\n",
       "      <td>-0.907899</td>\n",
       "      <td>-0.768196</td>\n",
       "      <td>divorced</td>\n",
       "      <td>Did not default</td>\n",
       "      <td>False</td>\n",
       "      <td>41-50</td>\n",
       "      <td>Low</td>\n",
       "    </tr>\n",
       "    <tr>\n",
       "      <th>4</th>\n",
       "      <td>male</td>\n",
       "      <td>2023-02-08</td>\n",
       "      <td>USD</td>\n",
       "      <td>Zimbabwe</td>\n",
       "      <td>True</td>\n",
       "      <td>Nurse</td>\n",
       "      <td>Chipinge</td>\n",
       "      <td>-0.762503</td>\n",
       "      <td>-0.642135</td>\n",
       "      <td>-0.280473</td>\n",
       "      <td>-0.557302</td>\n",
       "      <td>-0.322939</td>\n",
       "      <td>-0.657602</td>\n",
       "      <td>-0.676213</td>\n",
       "      <td>married</td>\n",
       "      <td>Did not default</td>\n",
       "      <td>False</td>\n",
       "      <td>41-50</td>\n",
       "      <td>Medium-Low</td>\n",
       "    </tr>\n",
       "  </tbody>\n",
       "</table>\n",
       "</div>"
      ],
      "text/plain": [
       "   gender disbursement_date currency   country  is_employed      job  \\\n",
       "0  female        2022-10-29      USD  Zimbabwe         True  Teacher   \n",
       "1   other        2020-06-06      USD  Zimbabwe         True  Teacher   \n",
       "2   other        2023-09-29      USD  Zimbabwe         True    Nurse   \n",
       "3  female        2022-06-22      USD  Zimbabwe         True   Doctor   \n",
       "4    male        2023-02-08      USD  Zimbabwe         True    Nurse   \n",
       "\n",
       "     location  loan_amount  number_of_defaults  outstanding_balance  \\\n",
       "0  Beitbridge     0.495753           -0.642135             1.167094   \n",
       "1      Harare    -0.259201            2.263650            -0.820079   \n",
       "2       Gweru     0.244102            0.810757             0.782114   \n",
       "3      Rusape    -0.447939           -0.642135            -0.128153   \n",
       "4    Chipinge    -0.762503           -0.642135            -0.280473   \n",
       "\n",
       "   interest_rate       age  remaining_term    salary marital_status  \\\n",
       "0       0.510797 -1.350955       -0.490738  0.643602        married   \n",
       "1      -0.557302 -0.117336        0.760746  0.592055         single   \n",
       "2       0.510797 -0.117336        0.343585  0.788319        married   \n",
       "3       1.044846  0.705077       -0.907899 -0.768196       divorced   \n",
       "4      -0.557302 -0.322939       -0.657602 -0.676213        married   \n",
       "\n",
       "       loan_status  target age_group salary_group  \n",
       "0  Did not default   False     31-40         High  \n",
       "1  Did not default   False     41-50         High  \n",
       "2  Did not default   False     41-50         High  \n",
       "3  Did not default   False     41-50          Low  \n",
       "4  Did not default   False     41-50   Medium-Low  "
      ]
     },
     "execution_count": 52,
     "metadata": {},
     "output_type": "execute_result"
    }
   ],
   "source": [
    "# Apply Standard Scaling\n",
    "scaler = StandardScaler()\n",
    "\n",
    "df[numeric_features] = scaler.fit_transform(df[numeric_features])\n",
    "df.head()"
   ]
  },
  {
   "cell_type": "code",
   "execution_count": 53,
   "metadata": {},
   "outputs": [],
   "source": [
    "#categorical features\n",
    "categorical_features = df.select_dtypes(include=['object']).columns.tolist()\n",
    "categorical_features.remove('disbursement_date')"
   ]
  },
  {
   "cell_type": "code",
   "execution_count": 55,
   "metadata": {},
   "outputs": [
    {
     "data": {
      "text/plain": [
       "Index(['disbursement_date', 'is_employed', 'loan_amount', 'number_of_defaults',\n",
       "       'outstanding_balance', 'interest_rate', 'age', 'remaining_term',\n",
       "       'salary', 'target', 'age_group', 'salary_group', 'gender_female',\n",
       "       'gender_male', 'gender_other', 'currency_USD', 'country_Zimbabwe',\n",
       "       'job_Accountant', 'job_Data Analyst', 'job_Data Scientist',\n",
       "       'job_Doctor', 'job_Engineer', 'job_Lawyer', 'job_Nurse',\n",
       "       'job_Software Developer', 'job_Teacher', 'job_Unknown',\n",
       "       'location_Beitbridge', 'location_Bulawayo', 'location_Chimanimani',\n",
       "       'location_Chipinge', 'location_Chiredzi', 'location_Chivhu',\n",
       "       'location_Gokwe', 'location_Gweru', 'location_Harare',\n",
       "       'location_Hwange', 'location_Kadoma', 'location_Kariba',\n",
       "       'location_Karoi', 'location_Kwekwe', 'location_Marondera',\n",
       "       'location_Masvingo', 'location_Mutare', 'location_Nyanga',\n",
       "       'location_Plumtree', 'location_Redcliff', 'location_Rusape',\n",
       "       'location_Shurugwi', 'location_Victoria Falls', 'location_Zvishavane',\n",
       "       'marital_status_divorced', 'marital_status_married',\n",
       "       'marital_status_single', 'marital_status_unknown',\n",
       "       'loan_status_Defaulted', 'loan_status_Did not default'],\n",
       "      dtype='object')"
      ]
     },
     "execution_count": 55,
     "metadata": {},
     "output_type": "execute_result"
    }
   ],
   "source": [
    "\n",
    "# Perform one-hot encoding\n",
    "df_encoded = pd.get_dummies(df, columns=categorical_features)\n",
    "df_encoded.columns\n",
    "\n"
   ]
  },
  {
   "cell_type": "markdown",
   "metadata": {},
   "source": [
    "\n",
    "### Feature Selection Process\n",
    "\n",
    "l performed feature selection to identify the most relevant variables from our dataset for predictive modeling. The dataset contains various features related to loan applicants, including demographic information, loan details, and employment status.\n",
    "\n"
   ]
  },
  {
   "cell_type": "code",
   "execution_count": 59,
   "metadata": {},
   "outputs": [
    {
     "ename": "ValueError",
     "evalue": "could not convert string to float: 'female'",
     "output_type": "error",
     "traceback": [
      "\u001b[1;31m---------------------------------------------------------------------------\u001b[0m",
      "\u001b[1;31mValueError\u001b[0m                                Traceback (most recent call last)",
      "Cell \u001b[1;32mIn[59], line 2\u001b[0m\n\u001b[0;32m      1\u001b[0m \u001b[38;5;66;03m# Calculate correlation matrix\u001b[39;00m\n\u001b[1;32m----> 2\u001b[0m correlation_matrix \u001b[38;5;241m=\u001b[39m \u001b[43mdf\u001b[49m\u001b[38;5;241;43m.\u001b[39;49m\u001b[43mcorr\u001b[49m\u001b[43m(\u001b[49m\u001b[43m)\u001b[49m\n\u001b[0;32m      4\u001b[0m plt\u001b[38;5;241m.\u001b[39mfigure(figsize\u001b[38;5;241m=\u001b[39m(\u001b[38;5;241m12\u001b[39m, \u001b[38;5;241m10\u001b[39m))\n\u001b[0;32m      5\u001b[0m sns\u001b[38;5;241m.\u001b[39mheatmap(correlation_matrix, annot\u001b[38;5;241m=\u001b[39m\u001b[38;5;28;01mTrue\u001b[39;00m, cmap\u001b[38;5;241m=\u001b[39m\u001b[38;5;124m'\u001b[39m\u001b[38;5;124mcoolwarm\u001b[39m\u001b[38;5;124m'\u001b[39m, fmt\u001b[38;5;241m=\u001b[39m\u001b[38;5;124m\"\u001b[39m\u001b[38;5;124m.2f\u001b[39m\u001b[38;5;124m\"\u001b[39m, linewidths\u001b[38;5;241m=\u001b[39m\u001b[38;5;241m0.5\u001b[39m)\n",
      "File \u001b[1;32mc:\\projects\\python\\Predicting-Probability-of-Default\\claxon-env\\Lib\\site-packages\\pandas\\core\\frame.py:11049\u001b[0m, in \u001b[0;36mDataFrame.corr\u001b[1;34m(self, method, min_periods, numeric_only)\u001b[0m\n\u001b[0;32m  11047\u001b[0m cols \u001b[38;5;241m=\u001b[39m data\u001b[38;5;241m.\u001b[39mcolumns\n\u001b[0;32m  11048\u001b[0m idx \u001b[38;5;241m=\u001b[39m cols\u001b[38;5;241m.\u001b[39mcopy()\n\u001b[1;32m> 11049\u001b[0m mat \u001b[38;5;241m=\u001b[39m \u001b[43mdata\u001b[49m\u001b[38;5;241;43m.\u001b[39;49m\u001b[43mto_numpy\u001b[49m\u001b[43m(\u001b[49m\u001b[43mdtype\u001b[49m\u001b[38;5;241;43m=\u001b[39;49m\u001b[38;5;28;43mfloat\u001b[39;49m\u001b[43m,\u001b[49m\u001b[43m \u001b[49m\u001b[43mna_value\u001b[49m\u001b[38;5;241;43m=\u001b[39;49m\u001b[43mnp\u001b[49m\u001b[38;5;241;43m.\u001b[39;49m\u001b[43mnan\u001b[49m\u001b[43m,\u001b[49m\u001b[43m \u001b[49m\u001b[43mcopy\u001b[49m\u001b[38;5;241;43m=\u001b[39;49m\u001b[38;5;28;43;01mFalse\u001b[39;49;00m\u001b[43m)\u001b[49m\n\u001b[0;32m  11051\u001b[0m \u001b[38;5;28;01mif\u001b[39;00m method \u001b[38;5;241m==\u001b[39m \u001b[38;5;124m\"\u001b[39m\u001b[38;5;124mpearson\u001b[39m\u001b[38;5;124m\"\u001b[39m:\n\u001b[0;32m  11052\u001b[0m     correl \u001b[38;5;241m=\u001b[39m libalgos\u001b[38;5;241m.\u001b[39mnancorr(mat, minp\u001b[38;5;241m=\u001b[39mmin_periods)\n",
      "File \u001b[1;32mc:\\projects\\python\\Predicting-Probability-of-Default\\claxon-env\\Lib\\site-packages\\pandas\\core\\frame.py:1993\u001b[0m, in \u001b[0;36mDataFrame.to_numpy\u001b[1;34m(self, dtype, copy, na_value)\u001b[0m\n\u001b[0;32m   1991\u001b[0m \u001b[38;5;28;01mif\u001b[39;00m dtype \u001b[38;5;129;01mis\u001b[39;00m \u001b[38;5;129;01mnot\u001b[39;00m \u001b[38;5;28;01mNone\u001b[39;00m:\n\u001b[0;32m   1992\u001b[0m     dtype \u001b[38;5;241m=\u001b[39m np\u001b[38;5;241m.\u001b[39mdtype(dtype)\n\u001b[1;32m-> 1993\u001b[0m result \u001b[38;5;241m=\u001b[39m \u001b[38;5;28;43mself\u001b[39;49m\u001b[38;5;241;43m.\u001b[39;49m\u001b[43m_mgr\u001b[49m\u001b[38;5;241;43m.\u001b[39;49m\u001b[43mas_array\u001b[49m\u001b[43m(\u001b[49m\u001b[43mdtype\u001b[49m\u001b[38;5;241;43m=\u001b[39;49m\u001b[43mdtype\u001b[49m\u001b[43m,\u001b[49m\u001b[43m \u001b[49m\u001b[43mcopy\u001b[49m\u001b[38;5;241;43m=\u001b[39;49m\u001b[43mcopy\u001b[49m\u001b[43m,\u001b[49m\u001b[43m \u001b[49m\u001b[43mna_value\u001b[49m\u001b[38;5;241;43m=\u001b[39;49m\u001b[43mna_value\u001b[49m\u001b[43m)\u001b[49m\n\u001b[0;32m   1994\u001b[0m \u001b[38;5;28;01mif\u001b[39;00m result\u001b[38;5;241m.\u001b[39mdtype \u001b[38;5;129;01mis\u001b[39;00m \u001b[38;5;129;01mnot\u001b[39;00m dtype:\n\u001b[0;32m   1995\u001b[0m     result \u001b[38;5;241m=\u001b[39m np\u001b[38;5;241m.\u001b[39masarray(result, dtype\u001b[38;5;241m=\u001b[39mdtype)\n",
      "File \u001b[1;32mc:\\projects\\python\\Predicting-Probability-of-Default\\claxon-env\\Lib\\site-packages\\pandas\\core\\internals\\managers.py:1694\u001b[0m, in \u001b[0;36mBlockManager.as_array\u001b[1;34m(self, dtype, copy, na_value)\u001b[0m\n\u001b[0;32m   1692\u001b[0m         arr\u001b[38;5;241m.\u001b[39mflags\u001b[38;5;241m.\u001b[39mwriteable \u001b[38;5;241m=\u001b[39m \u001b[38;5;28;01mFalse\u001b[39;00m\n\u001b[0;32m   1693\u001b[0m \u001b[38;5;28;01melse\u001b[39;00m:\n\u001b[1;32m-> 1694\u001b[0m     arr \u001b[38;5;241m=\u001b[39m \u001b[38;5;28;43mself\u001b[39;49m\u001b[38;5;241;43m.\u001b[39;49m\u001b[43m_interleave\u001b[49m\u001b[43m(\u001b[49m\u001b[43mdtype\u001b[49m\u001b[38;5;241;43m=\u001b[39;49m\u001b[43mdtype\u001b[49m\u001b[43m,\u001b[49m\u001b[43m \u001b[49m\u001b[43mna_value\u001b[49m\u001b[38;5;241;43m=\u001b[39;49m\u001b[43mna_value\u001b[49m\u001b[43m)\u001b[49m\n\u001b[0;32m   1695\u001b[0m     \u001b[38;5;66;03m# The underlying data was copied within _interleave, so no need\u001b[39;00m\n\u001b[0;32m   1696\u001b[0m     \u001b[38;5;66;03m# to further copy if copy=True or setting na_value\u001b[39;00m\n\u001b[0;32m   1698\u001b[0m \u001b[38;5;28;01mif\u001b[39;00m na_value \u001b[38;5;129;01mis\u001b[39;00m lib\u001b[38;5;241m.\u001b[39mno_default:\n",
      "File \u001b[1;32mc:\\projects\\python\\Predicting-Probability-of-Default\\claxon-env\\Lib\\site-packages\\pandas\\core\\internals\\managers.py:1753\u001b[0m, in \u001b[0;36mBlockManager._interleave\u001b[1;34m(self, dtype, na_value)\u001b[0m\n\u001b[0;32m   1751\u001b[0m     \u001b[38;5;28;01melse\u001b[39;00m:\n\u001b[0;32m   1752\u001b[0m         arr \u001b[38;5;241m=\u001b[39m blk\u001b[38;5;241m.\u001b[39mget_values(dtype)\n\u001b[1;32m-> 1753\u001b[0m     \u001b[43mresult\u001b[49m\u001b[43m[\u001b[49m\u001b[43mrl\u001b[49m\u001b[38;5;241;43m.\u001b[39;49m\u001b[43mindexer\u001b[49m\u001b[43m]\u001b[49m \u001b[38;5;241m=\u001b[39m arr\n\u001b[0;32m   1754\u001b[0m     itemmask[rl\u001b[38;5;241m.\u001b[39mindexer] \u001b[38;5;241m=\u001b[39m \u001b[38;5;241m1\u001b[39m\n\u001b[0;32m   1756\u001b[0m \u001b[38;5;28;01mif\u001b[39;00m \u001b[38;5;129;01mnot\u001b[39;00m itemmask\u001b[38;5;241m.\u001b[39mall():\n",
      "\u001b[1;31mValueError\u001b[0m: could not convert string to float: 'female'"
     ]
    }
   ],
   "source": [
    "# Calculate correlation matrix\n",
    "correlation_matrix = df.corr()\n",
    "\n",
    "plt.figure(figsize=(12, 10))\n",
    "sns.heatmap(correlation_matrix, annot=True, cmap='coolwarm', fmt=\".2f\", linewidths=0.5)\n",
    "plt.title('Correlation Heatmap')\n",
    "plt.show()\n"
   ]
  }
 ],
 "metadata": {
  "kernelspec": {
   "display_name": "claxon-env",
   "language": "python",
   "name": "python3"
  },
  "language_info": {
   "codemirror_mode": {
    "name": "ipython",
    "version": 3
   },
   "file_extension": ".py",
   "mimetype": "text/x-python",
   "name": "python",
   "nbconvert_exporter": "python",
   "pygments_lexer": "ipython3",
   "version": "3.12.2"
  }
 },
 "nbformat": 4,
 "nbformat_minor": 2
}
